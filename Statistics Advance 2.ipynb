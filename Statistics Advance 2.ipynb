{
 "cells": [
  {
   "cell_type": "code",
   "execution_count": 1,
   "id": "d996d5bb",
   "metadata": {},
   "outputs": [],
   "source": [
    "#1  What is hypothesis testing in statistics"
   ]
  },
  {
   "cell_type": "code",
   "execution_count": 2,
   "id": "f517de10",
   "metadata": {},
   "outputs": [
    {
     "data": {
      "text/plain": [
       "'\\nHypothesis testing is a statistical method used to make decisions or inferences about a population based on sample data. It involves the following steps:\\n\\n    Formulate Hypotheses:\\n        Null Hypothesis (H0): A statement of no effect or no difference, which serves as the default assumption.\\n        Alternative Hypothesis (H1 or Ha): A statement that contradicts the null hypothesis, indicating an effect or difference.\\n\\n    Select a Significance Level ((\\x07lpha)): The probability of rejecting the null hypothesis when it is true, commonly set at 0.05.\\n\\n    Collect Data: Gather sample data relevant to the hypothesis.\\n\\n    Perform a Statistical Test: Calculate a test statistic (e.g., Z, t, chi-square) to compare against a critical value or to compute a p-value.\\n\\n    Make a Decision:\\n        Reject H0: If the test statistic falls in the critical region or the p-value is less than (\\x07lpha), indicating sufficient evidence against H0.\\n        Fail to Reject H0: If the test statistic does not fall in the critical region or the p-value is greater than (\\x07lpha), indicating insufficient evidence against H0.\\n\\n    Interpret the Results: Draw conclusions about the population based on the test outcome.\\n\\nHypothesis testing helps determine if observed data can be attributed to random chance or if there is a statistically significant effect.\\n\\n'"
      ]
     },
     "execution_count": 2,
     "metadata": {},
     "output_type": "execute_result"
    }
   ],
   "source": [
    "\"\"\"\n",
    "Hypothesis testing is a statistical method used to make decisions or inferences about a population based on sample data. It involves the following steps:\n",
    "\n",
    "    Formulate Hypotheses:\n",
    "        Null Hypothesis (H0): A statement of no effect or no difference, which serves as the default assumption.\n",
    "        Alternative Hypothesis (H1 or Ha): A statement that contradicts the null hypothesis, indicating an effect or difference.\n",
    "\n",
    "    Select a Significance Level ((\\alpha)): The probability of rejecting the null hypothesis when it is true, commonly set at 0.05.\n",
    "\n",
    "    Collect Data: Gather sample data relevant to the hypothesis.\n",
    "\n",
    "    Perform a Statistical Test: Calculate a test statistic (e.g., Z, t, chi-square) to compare against a critical value or to compute a p-value.\n",
    "\n",
    "    Make a Decision:\n",
    "        Reject H0: If the test statistic falls in the critical region or the p-value is less than (\\alpha), indicating sufficient evidence against H0.\n",
    "        Fail to Reject H0: If the test statistic does not fall in the critical region or the p-value is greater than (\\alpha), indicating insufficient evidence against H0.\n",
    "\n",
    "    Interpret the Results: Draw conclusions about the population based on the test outcome.\n",
    "\n",
    "Hypothesis testing helps determine if observed data can be attributed to random chance or if there is a statistically significant effect.\n",
    "\n",
    "\"\"\""
   ]
  },
  {
   "cell_type": "code",
   "execution_count": 3,
   "id": "33e4d358",
   "metadata": {},
   "outputs": [],
   "source": [
    "#2  What is the null hypothesis, and how does it differ from the alternative hypothesis"
   ]
  },
  {
   "cell_type": "code",
   "execution_count": 4,
   "id": "d9a7bfe4",
   "metadata": {},
   "outputs": [
    {
     "data": {
      "text/plain": [
       "'\\nThe null hypothesis and the alternative hypothesis are two competing statements used in hypothesis testing:\\n\\n    Null Hypothesis (H0):\\n        Represents the default or status quo assumption.\\n        States that there is no effect, no difference, or no relationship in the population.\\n        It is the hypothesis that researchers aim to test against.\\n        Example: “The mean of the population is equal to a specified value.”\\n\\n    Alternative Hypothesis (H1 or Ha):\\n        Represents the statement that contradicts the null hypothesis.\\n        Suggests that there is an effect, a difference, or a relationship in the population.\\n        It is what researchers want to provide evidence for.\\n        Example: “The mean of the population is not equal to a specified value.”\\n\\nKey Differences:\\n\\n    Purpose: The null hypothesis serves as the baseline assumption, while the alternative hypothesis represents the researcher’s claim.\\n    Testing: Hypothesis testing aims to determine whether there is enough evidence to reject the null hypothesis in favor of the alternative hypothesis.\\n    Outcome: Rejecting the null hypothesis suggests support for the alternative hypothesis, while failing to reject it suggests insufficient evidence to support the alternative.\\n\\n\\n'"
      ]
     },
     "execution_count": 4,
     "metadata": {},
     "output_type": "execute_result"
    }
   ],
   "source": [
    "\"\"\"\n",
    "The null hypothesis and the alternative hypothesis are two competing statements used in hypothesis testing:\n",
    "\n",
    "    Null Hypothesis (H0):\n",
    "        Represents the default or status quo assumption.\n",
    "        States that there is no effect, no difference, or no relationship in the population.\n",
    "        It is the hypothesis that researchers aim to test against.\n",
    "        Example: “The mean of the population is equal to a specified value.”\n",
    "\n",
    "    Alternative Hypothesis (H1 or Ha):\n",
    "        Represents the statement that contradicts the null hypothesis.\n",
    "        Suggests that there is an effect, a difference, or a relationship in the population.\n",
    "        It is what researchers want to provide evidence for.\n",
    "        Example: “The mean of the population is not equal to a specified value.”\n",
    "\n",
    "Key Differences:\n",
    "\n",
    "    Purpose: The null hypothesis serves as the baseline assumption, while the alternative hypothesis represents the researcher’s claim.\n",
    "    Testing: Hypothesis testing aims to determine whether there is enough evidence to reject the null hypothesis in favor of the alternative hypothesis.\n",
    "    Outcome: Rejecting the null hypothesis suggests support for the alternative hypothesis, while failing to reject it suggests insufficient evidence to support the alternative.\n",
    "\n",
    "\n",
    "\"\"\"\n"
   ]
  },
  {
   "cell_type": "code",
   "execution_count": 5,
   "id": "82c9da3a",
   "metadata": {},
   "outputs": [],
   "source": [
    "#3 What is the significance level in hypothesis testing, and why is it important"
   ]
  },
  {
   "cell_type": "code",
   "execution_count": 6,
   "id": "d2377ef2",
   "metadata": {},
   "outputs": [
    {
     "data": {
      "text/plain": [
       "'\\nThe significance level, denoted as (\\x07lpha), is a threshold used in hypothesis testing to determine whether to reject the null hypothesis. It represents the probability of making a Type I error, which is rejecting the null hypothesis when it is actually true.\\nImportance of Significance Level:\\n\\n    Decision-Making Threshold:\\n        The significance level sets the criteria for deciding whether the observed data is statistically significant.\\n        Commonly used values are 0.05, 0.01, or 0.10, indicating a 5%, 1%, or 10% risk of a Type I error, respectively.\\n\\n    Balancing Errors:\\n        A lower (\\x07lpha) reduces the risk of a Type I error but increases the risk of a Type II error (failing to reject a false null hypothesis).\\n        Choosing an appropriate (\\x07lpha) balances the risks of these errors based on the context and consequences of the decision.\\n\\n    Interpretation of Results:\\n        If the p-value is less than (\\x07lpha), the result is considered statistically significant, leading to the rejection of the null hypothesis.\\n        It provides a standardized way to interpret the strength of evidence against the null hypothesis.\\n\\nThe significance level is crucial for ensuring that conclusions drawn from hypothesis testing are reliable and consistent with the level of risk the researcher is willing to accept.\\n\\n'"
      ]
     },
     "execution_count": 6,
     "metadata": {},
     "output_type": "execute_result"
    }
   ],
   "source": [
    "\"\"\"\n",
    "The significance level, denoted as (\\alpha), is a threshold used in hypothesis testing to determine whether to reject the null hypothesis. It represents the probability of making a Type I error, which is rejecting the null hypothesis when it is actually true.\n",
    "Importance of Significance Level:\n",
    "\n",
    "    Decision-Making Threshold:\n",
    "        The significance level sets the criteria for deciding whether the observed data is statistically significant.\n",
    "        Commonly used values are 0.05, 0.01, or 0.10, indicating a 5%, 1%, or 10% risk of a Type I error, respectively.\n",
    "\n",
    "    Balancing Errors:\n",
    "        A lower (\\alpha) reduces the risk of a Type I error but increases the risk of a Type II error (failing to reject a false null hypothesis).\n",
    "        Choosing an appropriate (\\alpha) balances the risks of these errors based on the context and consequences of the decision.\n",
    "\n",
    "    Interpretation of Results:\n",
    "        If the p-value is less than (\\alpha), the result is considered statistically significant, leading to the rejection of the null hypothesis.\n",
    "        It provides a standardized way to interpret the strength of evidence against the null hypothesis.\n",
    "\n",
    "The significance level is crucial for ensuring that conclusions drawn from hypothesis testing are reliable and consistent with the level of risk the researcher is willing to accept.\n",
    "\n",
    "\"\"\""
   ]
  },
  {
   "cell_type": "code",
   "execution_count": 7,
   "id": "948dc849",
   "metadata": {},
   "outputs": [],
   "source": [
    "#4  What does a P-value represent in hypothesis testing"
   ]
  },
  {
   "cell_type": "code",
   "execution_count": 8,
   "id": "c70b6393",
   "metadata": {},
   "outputs": [
    {
     "data": {
      "text/plain": [
       "'\\nIn hypothesis testing, a p-value represents the probability of obtaining a test statistic at least as extreme as the one observed, assuming that the null hypothesis is true. \\nIt quantifies the strength of evidence against the null hypothesis.\\nKey Points about P-value:\\n\\n    Measure of Evidence:\\n        A small p-value indicates strong evidence against the null hypothesis, suggesting that the observed data is unlikely under the null hypothesis.\\n        A large p-value suggests weak evidence against the null hypothesis, indicating that the observed data is consistent with the null hypothesis.\\n\\n    Comparison with Significance Level ((\\x07lpha)):\\n        If the p-value is less than or equal to (\\x07lpha), the result is considered statistically significant, and the null hypothesis is rejected.\\n        If the p-value is greater than (\\x07lpha), there is insufficient evidence to reject the null hypothesis.\\n\\n    Continuous Measure:\\n        Unlike a binary decision, the p-value provides a continuous measure of evidence, allowing researchers to assess the strength of the results.\\n\\n    Interpretation:\\n        A p-value does not measure the probability that the null hypothesis is true or false.\\n        It does not indicate the size or importance of an effect, only the evidence against the null hypothesis.\\n\\nThe p-value is a crucial component of hypothesis testing, helping researchers make informed decisions about the validity of their hypotheses.\\n\\n'"
      ]
     },
     "execution_count": 8,
     "metadata": {},
     "output_type": "execute_result"
    }
   ],
   "source": [
    "\"\"\"\n",
    "In hypothesis testing, a p-value represents the probability of obtaining a test statistic at least as extreme as the one observed, assuming that the null hypothesis is true. \n",
    "It quantifies the strength of evidence against the null hypothesis.\n",
    "Key Points about P-value:\n",
    "\n",
    "    Measure of Evidence:\n",
    "        A small p-value indicates strong evidence against the null hypothesis, suggesting that the observed data is unlikely under the null hypothesis.\n",
    "        A large p-value suggests weak evidence against the null hypothesis, indicating that the observed data is consistent with the null hypothesis.\n",
    "\n",
    "    Comparison with Significance Level ((\\alpha)):\n",
    "        If the p-value is less than or equal to (\\alpha), the result is considered statistically significant, and the null hypothesis is rejected.\n",
    "        If the p-value is greater than (\\alpha), there is insufficient evidence to reject the null hypothesis.\n",
    "\n",
    "    Continuous Measure:\n",
    "        Unlike a binary decision, the p-value provides a continuous measure of evidence, allowing researchers to assess the strength of the results.\n",
    "\n",
    "    Interpretation:\n",
    "        A p-value does not measure the probability that the null hypothesis is true or false.\n",
    "        It does not indicate the size or importance of an effect, only the evidence against the null hypothesis.\n",
    "\n",
    "The p-value is a crucial component of hypothesis testing, helping researchers make informed decisions about the validity of their hypotheses.\n",
    "\n",
    "\"\"\""
   ]
  },
  {
   "cell_type": "code",
   "execution_count": 9,
   "id": "a105bcdb",
   "metadata": {},
   "outputs": [],
   "source": [
    "#5  How do you interpret the P-value in hypothesis testing"
   ]
  },
  {
   "cell_type": "code",
   "execution_count": 10,
   "id": "3cde250b",
   "metadata": {},
   "outputs": [
    {
     "data": {
      "text/plain": [
       "'\\nIn hypothesis testing, the p-value helps determine the strength of evidence against the null hypothesis. Here’s how to interpret it:\\n\\n    Small P-value (typically ≤ 0.05):\\n        Indicates strong evidence against the null hypothesis.\\n        Suggests that the observed data is unlikely under the null hypothesis.\\n        Leads to rejecting the null hypothesis in favor of the alternative hypothesis.\\n\\n    Large P-value (> 0.05):\\n        Indicates weak evidence against the null hypothesis.\\n        Suggests that the observed data is consistent with the null hypothesis.\\n        Leads to failing to reject the null hypothesis, meaning there isn’t enough evidence to support the alternative hypothesis.\\n\\n    Exact Value:\\n        The p-value quantifies the probability of observing the data, or something more extreme, if the null hypothesis is true.\\n        It provides a continuous measure of evidence, allowing for nuanced interpretation beyond a simple reject/fail-to-reject decision.\\n\\n    Contextual Consideration:\\n        The significance level ((\\x07lpha)) is chosen before testing and is used to compare with the p-value.\\n        A p-value less than or equal to (\\x07lpha) indicates statistical significance.\\n\\nThe p-value does not measure the probability that the null hypothesis is true or false, nor does it indicate the size or importance of an effect. \\nIt simply assesses the evidence against the null hypothesis based on the observed data.\\n\\n'"
      ]
     },
     "execution_count": 10,
     "metadata": {},
     "output_type": "execute_result"
    }
   ],
   "source": [
    "\"\"\"\n",
    "In hypothesis testing, the p-value helps determine the strength of evidence against the null hypothesis. Here’s how to interpret it:\n",
    "\n",
    "    Small P-value (typically ≤ 0.05):\n",
    "        Indicates strong evidence against the null hypothesis.\n",
    "        Suggests that the observed data is unlikely under the null hypothesis.\n",
    "        Leads to rejecting the null hypothesis in favor of the alternative hypothesis.\n",
    "\n",
    "    Large P-value (> 0.05):\n",
    "        Indicates weak evidence against the null hypothesis.\n",
    "        Suggests that the observed data is consistent with the null hypothesis.\n",
    "        Leads to failing to reject the null hypothesis, meaning there isn’t enough evidence to support the alternative hypothesis.\n",
    "\n",
    "    Exact Value:\n",
    "        The p-value quantifies the probability of observing the data, or something more extreme, if the null hypothesis is true.\n",
    "        It provides a continuous measure of evidence, allowing for nuanced interpretation beyond a simple reject/fail-to-reject decision.\n",
    "\n",
    "    Contextual Consideration:\n",
    "        The significance level ((\\alpha)) is chosen before testing and is used to compare with the p-value.\n",
    "        A p-value less than or equal to (\\alpha) indicates statistical significance.\n",
    "\n",
    "The p-value does not measure the probability that the null hypothesis is true or false, nor does it indicate the size or importance of an effect. \n",
    "It simply assesses the evidence against the null hypothesis based on the observed data.\n",
    "\n",
    "\"\"\""
   ]
  },
  {
   "cell_type": "code",
   "execution_count": 11,
   "id": "2690f544",
   "metadata": {},
   "outputs": [],
   "source": [
    "#6 What are Type 1 and Type 2 errors in hypothesis testing"
   ]
  },
  {
   "cell_type": "code",
   "execution_count": 12,
   "id": "c1be486d",
   "metadata": {},
   "outputs": [
    {
     "data": {
      "text/plain": [
       "'\\nIn hypothesis testing, Type I and Type II errors are potential errors that can occur when making decisions about the null hypothesis:\\n\\n    Type I Error (False Positive):\\n        Occurs when the null hypothesis is rejected when it is actually true.\\n        Represents a false positive result, indicating an effect or difference that does not exist.\\n        The probability of making a Type I error is denoted by the significance level ((\\x07lpha)), commonly set at 0.05.\\n\\n    Type II Error (False Negative):\\n        Occurs when the null hypothesis is not rejected when it is actually false.\\n        Represents a false negative result, failing to detect an effect or difference that does exist.\\n        The probability of making a Type II error is denoted by (\\x08eta), and the power of the test \\n        (1 - (\\x08eta)) is the probability of correctly rejecting a false null hypothesis.\\n\\nBalancing Errors:\\n\\n    Reducing the risk of a Type I error (by lowering (\\x07lpha)) increases the risk of a Type II error, and vice versa.\\n    The choice of (\\x07lpha) and considerations for power depend on the context and consequences of the decision.\\n\\nUnderstanding these errors is crucial for designing experiments and interpreting the results of hypothesis tests.\\n\\n'"
      ]
     },
     "execution_count": 12,
     "metadata": {},
     "output_type": "execute_result"
    }
   ],
   "source": [
    "\"\"\"\n",
    "In hypothesis testing, Type I and Type II errors are potential errors that can occur when making decisions about the null hypothesis:\n",
    "\n",
    "    Type I Error (False Positive):\n",
    "        Occurs when the null hypothesis is rejected when it is actually true.\n",
    "        Represents a false positive result, indicating an effect or difference that does not exist.\n",
    "        The probability of making a Type I error is denoted by the significance level ((\\alpha)), commonly set at 0.05.\n",
    "\n",
    "    Type II Error (False Negative):\n",
    "        Occurs when the null hypothesis is not rejected when it is actually false.\n",
    "        Represents a false negative result, failing to detect an effect or difference that does exist.\n",
    "        The probability of making a Type II error is denoted by (\\beta), and the power of the test \n",
    "        (1 - (\\beta)) is the probability of correctly rejecting a false null hypothesis.\n",
    "\n",
    "Balancing Errors:\n",
    "\n",
    "    Reducing the risk of a Type I error (by lowering (\\alpha)) increases the risk of a Type II error, and vice versa.\n",
    "    The choice of (\\alpha) and considerations for power depend on the context and consequences of the decision.\n",
    "\n",
    "Understanding these errors is crucial for designing experiments and interpreting the results of hypothesis tests.\n",
    "\n",
    "\"\"\""
   ]
  },
  {
   "cell_type": "code",
   "execution_count": 13,
   "id": "5ea45e34",
   "metadata": {},
   "outputs": [],
   "source": [
    "#7  What is the difference between a one-tailed and a two-tailed test in hypothesis testing?"
   ]
  },
  {
   "cell_type": "code",
   "execution_count": 14,
   "id": "76793948",
   "metadata": {},
   "outputs": [
    {
     "data": {
      "text/plain": [
       "'\\nIn hypothesis testing, the difference between a one-tailed and a two-tailed test lies in the direction of the alternative hypothesis and how the test evaluates the data:\\n\\n    One-Tailed Test:\\n        Purpose: Tests for an effect in a specific direction.\\n        Alternative Hypothesis (H1): Specifies that the parameter is either greater than or less than a certain value, but not both.\\n        Critical Region: Located in one tail of the distribution.\\n        Example: Testing if a new drug is more effective than the current one (H1: mean > current mean).\\n\\n    Two-Tailed Test:\\n        Purpose: Tests for an effect in either direction.\\n        Alternative Hypothesis (H1): Specifies that the parameter is different from a certain value (either greater or less).\\n        Critical Region: Split between both tails of the distribution.\\n        Example: Testing if a new drug has a different effect than the current one (H1: mean ≠ current mean).\\n\\nKey Differences:\\n\\n    Directionality: One-tailed tests focus on one direction, while two-tailed tests consider both directions.\\n    Critical Values: Two-tailed tests have more stringent critical values for the same significance level, as the (\\x07lpha) is divided between both tails.\\n    Application: The choice between one-tailed and two-tailed tests depends on the research question and hypothesis.\\n\\n\\n'"
      ]
     },
     "execution_count": 14,
     "metadata": {},
     "output_type": "execute_result"
    }
   ],
   "source": [
    "\"\"\"\n",
    "In hypothesis testing, the difference between a one-tailed and a two-tailed test lies in the direction of the alternative hypothesis and how the test evaluates the data:\n",
    "\n",
    "    One-Tailed Test:\n",
    "        Purpose: Tests for an effect in a specific direction.\n",
    "        Alternative Hypothesis (H1): Specifies that the parameter is either greater than or less than a certain value, but not both.\n",
    "        Critical Region: Located in one tail of the distribution.\n",
    "        Example: Testing if a new drug is more effective than the current one (H1: mean > current mean).\n",
    "\n",
    "    Two-Tailed Test:\n",
    "        Purpose: Tests for an effect in either direction.\n",
    "        Alternative Hypothesis (H1): Specifies that the parameter is different from a certain value (either greater or less).\n",
    "        Critical Region: Split between both tails of the distribution.\n",
    "        Example: Testing if a new drug has a different effect than the current one (H1: mean ≠ current mean).\n",
    "\n",
    "Key Differences:\n",
    "\n",
    "    Directionality: One-tailed tests focus on one direction, while two-tailed tests consider both directions.\n",
    "    Critical Values: Two-tailed tests have more stringent critical values for the same significance level, as the (\\alpha) is divided between both tails.\n",
    "    Application: The choice between one-tailed and two-tailed tests depends on the research question and hypothesis.\n",
    "\n",
    "\n",
    "\"\"\""
   ]
  },
  {
   "cell_type": "code",
   "execution_count": 15,
   "id": "ed34c1bb",
   "metadata": {},
   "outputs": [],
   "source": [
    "#8 What is the Z-test, and when is it used in hypothesis testing?"
   ]
  },
  {
   "cell_type": "code",
   "execution_count": 16,
   "id": "e5aaf47e",
   "metadata": {},
   "outputs": [
    {
     "data": {
      "text/plain": [
       "'\\nThe Z-test is a statistical test used to determine whether there is a significant difference between sample and population means, \\nor between the means of two samples, when the population variance is known or the sample size is large.\\nWhen to Use a Z-test:\\n\\n    Known Population Variance:\\n        The population standard deviation is known, allowing for the calculation of the Z-statistic.\\n\\n    Large Sample Size:\\n        Typically used when the sample size is greater than 30, \\n        as the Central Limit Theorem ensures the sampling distribution of the mean is approximately normal.\\n\\n    Types of Z-tests:\\n        One-sample Z-test: Compares the sample mean to a known population mean.\\n        Two-sample Z-test: Compares the means of two independent samples.\\n        Proportion Z-test: Compares sample proportions to a known population proportion or between two sample proportions.\\n\\nKey Features:\\n\\n    Z-statistic: Measures how many standard deviations the sample mean is from the population mean.\\n    Standard Normal Distribution: The Z-test uses the standard normal distribution to determine critical values and p-values.\\n\\nThe Z-test is useful for hypothesis testing when the conditions of normality and known variance are met, \\nproviding a straightforward method to assess statistical significance.\\n\\n'"
      ]
     },
     "execution_count": 16,
     "metadata": {},
     "output_type": "execute_result"
    }
   ],
   "source": [
    "\"\"\"\n",
    "The Z-test is a statistical test used to determine whether there is a significant difference between sample and population means, \n",
    "or between the means of two samples, when the population variance is known or the sample size is large.\n",
    "When to Use a Z-test:\n",
    "\n",
    "    Known Population Variance:\n",
    "        The population standard deviation is known, allowing for the calculation of the Z-statistic.\n",
    "\n",
    "    Large Sample Size:\n",
    "        Typically used when the sample size is greater than 30, \n",
    "        as the Central Limit Theorem ensures the sampling distribution of the mean is approximately normal.\n",
    "\n",
    "    Types of Z-tests:\n",
    "        One-sample Z-test: Compares the sample mean to a known population mean.\n",
    "        Two-sample Z-test: Compares the means of two independent samples.\n",
    "        Proportion Z-test: Compares sample proportions to a known population proportion or between two sample proportions.\n",
    "\n",
    "Key Features:\n",
    "\n",
    "    Z-statistic: Measures how many standard deviations the sample mean is from the population mean.\n",
    "    Standard Normal Distribution: The Z-test uses the standard normal distribution to determine critical values and p-values.\n",
    "\n",
    "The Z-test is useful for hypothesis testing when the conditions of normality and known variance are met, \n",
    "providing a straightforward method to assess statistical significance.\n",
    "\n",
    "\"\"\""
   ]
  },
  {
   "cell_type": "code",
   "execution_count": 17,
   "id": "50f2304d",
   "metadata": {},
   "outputs": [],
   "source": [
    "#9  How do you calculate the Z-score, and what does it represent in hypothesis testing?"
   ]
  },
  {
   "cell_type": "code",
   "execution_count": 18,
   "id": "232de8c0",
   "metadata": {},
   "outputs": [
    {
     "data": {
      "text/plain": [
       "'\\nThe Z-score is a statistical measure that indicates how many standard deviations a data point is from the mean of a distribution. \\nIn hypothesis testing, it is used to determine the position of a sample mean relative to the population mean under the null hypothesis.\\n\\nthe Z-score Represents:\\n\\n    Standardization: Converts data to a standard normal distribution (mean = 0, standard deviation = 1), allowing for comparison across different datasets.\\n\\n    Position Relative to Mean: Indicates how far and in what direction the sample mean deviates from the population mean.\\n\\n    Hypothesis Testing:\\n        Used to calculate the p-value, which helps determine the statistical significance of the test.\\n        A high absolute Z-score suggests that the sample mean is significantly different from the population mean, \\n        leading to potential rejection of the null hypothesis.\\n\\nThe Z-score is a fundamental tool in hypothesis testing, providing a way to assess the likelihood of observing a sample mean under the null hypothesis.\\n'"
      ]
     },
     "execution_count": 18,
     "metadata": {},
     "output_type": "execute_result"
    }
   ],
   "source": [
    "\"\"\"\n",
    "The Z-score is a statistical measure that indicates how many standard deviations a data point is from the mean of a distribution. \n",
    "In hypothesis testing, it is used to determine the position of a sample mean relative to the population mean under the null hypothesis.\n",
    "\n",
    "the Z-score Represents:\n",
    "\n",
    "    Standardization: Converts data to a standard normal distribution (mean = 0, standard deviation = 1), allowing for comparison across different datasets.\n",
    "\n",
    "    Position Relative to Mean: Indicates how far and in what direction the sample mean deviates from the population mean.\n",
    "\n",
    "    Hypothesis Testing:\n",
    "        Used to calculate the p-value, which helps determine the statistical significance of the test.\n",
    "        A high absolute Z-score suggests that the sample mean is significantly different from the population mean, \n",
    "        leading to potential rejection of the null hypothesis.\n",
    "\n",
    "The Z-score is a fundamental tool in hypothesis testing, providing a way to assess the likelihood of observing a sample mean under the null hypothesis.\n",
    "\"\"\""
   ]
  },
  {
   "cell_type": "code",
   "execution_count": 19,
   "id": "0e616d16",
   "metadata": {},
   "outputs": [],
   "source": [
    "#10 What is the T-distribution, and when should it be used instead of the normal distribution?"
   ]
  },
  {
   "cell_type": "code",
   "execution_count": 20,
   "id": "ef8b0d17",
   "metadata": {},
   "outputs": [
    {
     "data": {
      "text/plain": [
       "'\\nThe T-distribution, also known as Student’s T-distribution, \\nis a probability distribution that is symmetric and bell-shaped, \\nsimilar to the normal distribution but with heavier tails. It is used in statistical analyses when the sample size is small and/or the population standard deviation is unknown.\\nWhen to Use the T-distribution:\\n\\n    Small Sample Sizes:\\n        Typically used when the sample size is less than 30, as the Central Limit Theorem may not ensure a normal distribution of the sample mean.\\n\\n    Unknown Population Standard Deviation:\\n        When the population standard deviation is unknown, the sample standard deviation is used as an estimate, which introduces additional variability.\\n\\n    Hypothesis Testing and Confidence Intervals:\\n        Used for calculating confidence intervals and conducting hypothesis tests (e.g., t-tests) for means when the above conditions are met.\\n\\nKey Features of the T-distribution:\\n\\n    Degrees of Freedom (df): The shape of the T-distribution depends on the degrees of freedom, which is related to the sample size ((df = n - 1) for a single sample).\\n    Heavier Tails: The T-distribution has heavier tails than the normal distribution, which accounts for the increased variability due to estimating the population standard deviation.\\n    Convergence to Normal Distribution: As the sample size increases, the T-distribution approaches the normal distribution.\\n\\nThe T-distribution is essential for making accurate inferences about population parameters when dealing with small samples and unknown standard deviations, \\nproviding a more reliable alternative to the normal distribution in these scenarios.\\n\\n'"
      ]
     },
     "execution_count": 20,
     "metadata": {},
     "output_type": "execute_result"
    }
   ],
   "source": [
    "\"\"\"\n",
    "The T-distribution, also known as Student’s T-distribution, \n",
    "is a probability distribution that is symmetric and bell-shaped, \n",
    "similar to the normal distribution but with heavier tails. It is used in statistical analyses when the sample size is small and/or the population standard deviation is unknown.\n",
    "When to Use the T-distribution:\n",
    "\n",
    "    Small Sample Sizes:\n",
    "        Typically used when the sample size is less than 30, as the Central Limit Theorem may not ensure a normal distribution of the sample mean.\n",
    "\n",
    "    Unknown Population Standard Deviation:\n",
    "        When the population standard deviation is unknown, the sample standard deviation is used as an estimate, which introduces additional variability.\n",
    "\n",
    "    Hypothesis Testing and Confidence Intervals:\n",
    "        Used for calculating confidence intervals and conducting hypothesis tests (e.g., t-tests) for means when the above conditions are met.\n",
    "\n",
    "Key Features of the T-distribution:\n",
    "\n",
    "    Degrees of Freedom (df): The shape of the T-distribution depends on the degrees of freedom, which is related to the sample size ((df = n - 1) for a single sample).\n",
    "    Heavier Tails: The T-distribution has heavier tails than the normal distribution, which accounts for the increased variability due to estimating the population standard deviation.\n",
    "    Convergence to Normal Distribution: As the sample size increases, the T-distribution approaches the normal distribution.\n",
    "\n",
    "The T-distribution is essential for making accurate inferences about population parameters when dealing with small samples and unknown standard deviations, \n",
    "providing a more reliable alternative to the normal distribution in these scenarios.\n",
    "\n",
    "\"\"\""
   ]
  },
  {
   "cell_type": "code",
   "execution_count": 21,
   "id": "415addfc",
   "metadata": {},
   "outputs": [],
   "source": [
    "#11  What is the difference between a Z-test and a T-test?"
   ]
  },
  {
   "cell_type": "code",
   "execution_count": 22,
   "id": "2c0e181f",
   "metadata": {},
   "outputs": [
    {
     "data": {
      "text/plain": [
       "'\\nZ-test:\\n\\n    Population Variance Known:\\n        Used when the population standard deviation is known.\\n\\n    Large Sample Size:\\n        Typically applied when the sample size is greater than 30, as the Central Limit Theorem ensures the sampling distribution of the mean is approximately normal.\\n\\n    Normal Distribution:\\n        Assumes the data follows a normal distribution.\\n\\n    Applications:\\n        One-sample Z-test, two-sample Z-test, and proportion Z-test.\\n\\nT-test:\\n\\n    Population Variance Unknown:\\n        Used when the population standard deviation is unknown, and the sample standard deviation is used as an estimate.\\n\\n    Small Sample Size:\\n        Suitable for smaller sample sizes (less than 30), where the sample mean’s distribution is not guaranteed to be normal.\\n\\n    T-distribution:\\n        Utilizes the T-distribution, which accounts for additional variability due to estimating the population standard deviation.\\n\\n    Applications:\\n        One-sample T-test, independent two-sample T-test, and paired T-test.\\n\\nKey Differences:\\n\\n    Distribution Used: Z-test uses the normal distribution, while T-test uses the T-distribution.\\n    Sample Size and Variance Knowledge: Z-test is preferred for large samples with known variance, \\n    whereas T-test is used for small samples with unknown variance.\\n\\nChoosing between a Z-test and a T-test depends on the sample size and whether the population standard deviation is known.\\n'"
      ]
     },
     "execution_count": 22,
     "metadata": {},
     "output_type": "execute_result"
    }
   ],
   "source": [
    "\"\"\"\n",
    "Z-test:\n",
    "\n",
    "    Population Variance Known:\n",
    "        Used when the population standard deviation is known.\n",
    "\n",
    "    Large Sample Size:\n",
    "        Typically applied when the sample size is greater than 30, as the Central Limit Theorem ensures the sampling distribution of the mean is approximately normal.\n",
    "\n",
    "    Normal Distribution:\n",
    "        Assumes the data follows a normal distribution.\n",
    "\n",
    "    Applications:\n",
    "        One-sample Z-test, two-sample Z-test, and proportion Z-test.\n",
    "\n",
    "T-test:\n",
    "\n",
    "    Population Variance Unknown:\n",
    "        Used when the population standard deviation is unknown, and the sample standard deviation is used as an estimate.\n",
    "\n",
    "    Small Sample Size:\n",
    "        Suitable for smaller sample sizes (less than 30), where the sample mean’s distribution is not guaranteed to be normal.\n",
    "\n",
    "    T-distribution:\n",
    "        Utilizes the T-distribution, which accounts for additional variability due to estimating the population standard deviation.\n",
    "\n",
    "    Applications:\n",
    "        One-sample T-test, independent two-sample T-test, and paired T-test.\n",
    "\n",
    "Key Differences:\n",
    "\n",
    "    Distribution Used: Z-test uses the normal distribution, while T-test uses the T-distribution.\n",
    "    Sample Size and Variance Knowledge: Z-test is preferred for large samples with known variance, \n",
    "    whereas T-test is used for small samples with unknown variance.\n",
    "\n",
    "Choosing between a Z-test and a T-test depends on the sample size and whether the population standard deviation is known.\n",
    "\"\"\""
   ]
  },
  {
   "cell_type": "code",
   "execution_count": 23,
   "id": "ef56d87f",
   "metadata": {},
   "outputs": [],
   "source": [
    "#12  What is the T-test, and how is it used in hypothesis testing?"
   ]
  },
  {
   "cell_type": "code",
   "execution_count": 24,
   "id": "9c4ee544",
   "metadata": {},
   "outputs": [
    {
     "data": {
      "text/plain": [
       "'\\nAI Assistant\\n\\nThe T-test is a statistical test used to determine if there is a significant difference between the means\\nof two groups or between a sample mean and a known population mean. \\nIt is particularly useful when the sample size is small and the population standard deviation is unknown.\\nTypes of T-tests:\\n\\n    One-sample T-test:\\n        Compares the mean of a single sample to a known population mean.\\n        Example: Testing if the average height of a sample of students differs from the national average.\\n\\n    Independent Two-sample T-test:\\n        Compares the means of two independent groups.\\n        Example: Testing if there is a difference in test scores between two different classes.\\n\\n    Paired T-test:\\n        Compares the means of two related groups.\\n        Example: Testing if there is a difference in blood pressure before and after treatment in the same group of patients.\\n\\nHow the T-test is Used in Hypothesis Testing:\\n\\n    Formulate Hypotheses:\\n        Null Hypothesis (H0): Assumes no difference between the means.\\n        Alternative Hypothesis (H1): Assumes a difference exists.\\n\\n    Calculate the T-statistic:\\n        For a one-sample T-test:\\n\\n        T=(Xˉ−μ)/(s/underroot of n)\\n\\n            (\\x08ar{X}) is the sample mean.\\n            (\\\\mu) is the population mean.\\n            (s) is the sample standard deviation.\\n            (n) is the sample size.\\n\\n    Determine the Critical Value or P-value:\\n        Use the T-distribution with appropriate degrees of freedom to find the critical value or calculate the p-value.\\n\\n    Make a Decision:\\n        Reject H0 if the T-statistic falls in the critical region or if the p-value is less than the significance level ((\\x07lpha)).\\n\\n    Interpret the Results:\\n        Conclude whether there is a statistically significant difference based on the test outcome.\\n\\nThe T-test is a versatile tool in hypothesis testing, allowing researchers to make inferences about population means when \\ndealing with small samples and unknown standard deviations.\\n'"
      ]
     },
     "execution_count": 24,
     "metadata": {},
     "output_type": "execute_result"
    }
   ],
   "source": [
    "\"\"\"\n",
    "AI Assistant\n",
    "\n",
    "The T-test is a statistical test used to determine if there is a significant difference between the means\n",
    "of two groups or between a sample mean and a known population mean. \n",
    "It is particularly useful when the sample size is small and the population standard deviation is unknown.\n",
    "Types of T-tests:\n",
    "\n",
    "    One-sample T-test:\n",
    "        Compares the mean of a single sample to a known population mean.\n",
    "        Example: Testing if the average height of a sample of students differs from the national average.\n",
    "\n",
    "    Independent Two-sample T-test:\n",
    "        Compares the means of two independent groups.\n",
    "        Example: Testing if there is a difference in test scores between two different classes.\n",
    "\n",
    "    Paired T-test:\n",
    "        Compares the means of two related groups.\n",
    "        Example: Testing if there is a difference in blood pressure before and after treatment in the same group of patients.\n",
    "\n",
    "How the T-test is Used in Hypothesis Testing:\n",
    "\n",
    "    Formulate Hypotheses:\n",
    "        Null Hypothesis (H0): Assumes no difference between the means.\n",
    "        Alternative Hypothesis (H1): Assumes a difference exists.\n",
    "\n",
    "    Calculate the T-statistic:\n",
    "        For a one-sample T-test:\n",
    "\n",
    "        T=(Xˉ−μ)/(s/underroot of n)\n",
    "\n",
    "            (\\bar{X}) is the sample mean.\n",
    "            (\\mu) is the population mean.\n",
    "            (s) is the sample standard deviation.\n",
    "            (n) is the sample size.\n",
    "\n",
    "    Determine the Critical Value or P-value:\n",
    "        Use the T-distribution with appropriate degrees of freedom to find the critical value or calculate the p-value.\n",
    "\n",
    "    Make a Decision:\n",
    "        Reject H0 if the T-statistic falls in the critical region or if the p-value is less than the significance level ((\\alpha)).\n",
    "\n",
    "    Interpret the Results:\n",
    "        Conclude whether there is a statistically significant difference based on the test outcome.\n",
    "\n",
    "The T-test is a versatile tool in hypothesis testing, allowing researchers to make inferences about population means when \n",
    "dealing with small samples and unknown standard deviations.\n",
    "\"\"\""
   ]
  },
  {
   "cell_type": "code",
   "execution_count": 25,
   "id": "d4649658",
   "metadata": {},
   "outputs": [],
   "source": [
    "#13  What is the relationship between Z-test and T-test in hypothesis testing?"
   ]
  },
  {
   "cell_type": "code",
   "execution_count": 26,
   "id": "3ffbd8c3",
   "metadata": {},
   "outputs": [
    {
     "data": {
      "text/plain": [
       "'\\nThe Z-test and T-test are both statistical methods used to test hypotheses about population means, but they are applied under different conditions. Here’s how they relate:\\n\\n    Purpose:\\n        Both tests aim to determine if there is a significant difference between means, either between a sample mean and a population mean or between two sample means.\\n\\n    Distribution Used:\\n        Z-test: Uses the standard normal distribution (Z-distribution).\\n        T-test: Uses the T-distribution, which accounts for additional variability when the population standard deviation is unknown.\\n\\n    Sample Size:\\n        Z-test: Typically used for large sample sizes (n > 30), where the Central Limit Theorem ensures the sampling distribution of the mean is approximately normal.\\n        T-test: Suitable for smaller sample sizes (n < 30), where the sample mean’s distribution may not be normal.\\n\\n    Population Variance:\\n        Z-test: Assumes the population standard deviation is known.\\n        T-test: Used when the population standard deviation is unknown, and the sample standard deviation is used as an estimate.\\n\\n    Convergence:\\n        As the sample size increases, the T-distribution approaches the normal distribution. Therefore, for large samples, \\n        the T-test and Z-test yield similar results.\\n\\nKey Relationship:\\n\\n    The choice between a Z-test and a T-test depends on the sample size and whether the population standard deviation is known. \\n    For large samples with known variance, the Z-test is appropriate. \\n    For small samples or unknown variance, the T-test is used. \\n    Both tests serve the same fundamental purpose of hypothesis testing but are tailored to different data conditions.\\n\\n\\n'"
      ]
     },
     "execution_count": 26,
     "metadata": {},
     "output_type": "execute_result"
    }
   ],
   "source": [
    "\"\"\"\n",
    "The Z-test and T-test are both statistical methods used to test hypotheses about population means, but they are applied under different conditions. Here’s how they relate:\n",
    "\n",
    "    Purpose:\n",
    "        Both tests aim to determine if there is a significant difference between means, either between a sample mean and a population mean or between two sample means.\n",
    "\n",
    "    Distribution Used:\n",
    "        Z-test: Uses the standard normal distribution (Z-distribution).\n",
    "        T-test: Uses the T-distribution, which accounts for additional variability when the population standard deviation is unknown.\n",
    "\n",
    "    Sample Size:\n",
    "        Z-test: Typically used for large sample sizes (n > 30), where the Central Limit Theorem ensures the sampling distribution of the mean is approximately normal.\n",
    "        T-test: Suitable for smaller sample sizes (n < 30), where the sample mean’s distribution may not be normal.\n",
    "\n",
    "    Population Variance:\n",
    "        Z-test: Assumes the population standard deviation is known.\n",
    "        T-test: Used when the population standard deviation is unknown, and the sample standard deviation is used as an estimate.\n",
    "\n",
    "    Convergence:\n",
    "        As the sample size increases, the T-distribution approaches the normal distribution. Therefore, for large samples, \n",
    "        the T-test and Z-test yield similar results.\n",
    "\n",
    "Key Relationship:\n",
    "\n",
    "    The choice between a Z-test and a T-test depends on the sample size and whether the population standard deviation is known. \n",
    "    For large samples with known variance, the Z-test is appropriate. \n",
    "    For small samples or unknown variance, the T-test is used. \n",
    "    Both tests serve the same fundamental purpose of hypothesis testing but are tailored to different data conditions.\n",
    "\n",
    "\n",
    "\"\"\""
   ]
  },
  {
   "cell_type": "code",
   "execution_count": 27,
   "id": "58f91f62",
   "metadata": {},
   "outputs": [],
   "source": [
    "#14  What is a confidence interval, and how is it used to interpret statistical results"
   ]
  },
  {
   "cell_type": "code",
   "execution_count": 28,
   "id": "614846cf",
   "metadata": {},
   "outputs": [
    {
     "data": {
      "text/plain": [
       "'\\nA confidence interval is a range of values, derived from sample data, that is likely to contain the true population parameter \\n(such as the mean or proportion) with a specified level of confidence. It provides an estimate of the uncertainty associated with a sample statistic.\\nKey Components of a Confidence Interval:\\n\\n    Point Estimate:\\n        The sample statistic (e.g., sample mean) that serves as the best estimate of the population parameter.\\n\\n    Margin of Error:\\n        The range above and below the point estimate, accounting for sampling variability. It is influenced by the standard deviation, sample size, and confidence level.\\n\\n    Confidence Level:\\n        The probability that the confidence interval contains the true population parameter. Common levels are 90%, 95%, and 99%.\\n\\nHow Confidence Intervals are Used:\\n\\n    Estimate Population Parameters:\\n        Provides a range within which the true parameter is expected to lie, offering more information than a single point estimate.\\n\\n    Assess Precision:\\n        A narrower confidence interval indicates more precise estimates, often achieved with larger sample sizes or lower variability.\\n\\n    Statistical Inference:\\n        Helps determine the reliability of the sample statistic. If a confidence interval for a mean difference does not include zero, \\n        it suggests a statistically significant difference.\\n\\n    Decision-Making:\\n        Used in hypothesis testing to assess the plausibility of the null hypothesis. If the hypothesized parameter value lies outside the interval, it may be rejected.\\n\\nConfidence intervals are crucial for interpreting statistical results, providing a measure of certainty and helping to make informed decisions based on sample data.\\n\\n'"
      ]
     },
     "execution_count": 28,
     "metadata": {},
     "output_type": "execute_result"
    }
   ],
   "source": [
    "\"\"\"\n",
    "A confidence interval is a range of values, derived from sample data, that is likely to contain the true population parameter \n",
    "(such as the mean or proportion) with a specified level of confidence. It provides an estimate of the uncertainty associated with a sample statistic.\n",
    "Key Components of a Confidence Interval:\n",
    "\n",
    "    Point Estimate:\n",
    "        The sample statistic (e.g., sample mean) that serves as the best estimate of the population parameter.\n",
    "\n",
    "    Margin of Error:\n",
    "        The range above and below the point estimate, accounting for sampling variability. It is influenced by the standard deviation, sample size, and confidence level.\n",
    "\n",
    "    Confidence Level:\n",
    "        The probability that the confidence interval contains the true population parameter. Common levels are 90%, 95%, and 99%.\n",
    "\n",
    "How Confidence Intervals are Used:\n",
    "\n",
    "    Estimate Population Parameters:\n",
    "        Provides a range within which the true parameter is expected to lie, offering more information than a single point estimate.\n",
    "\n",
    "    Assess Precision:\n",
    "        A narrower confidence interval indicates more precise estimates, often achieved with larger sample sizes or lower variability.\n",
    "\n",
    "    Statistical Inference:\n",
    "        Helps determine the reliability of the sample statistic. If a confidence interval for a mean difference does not include zero, \n",
    "        it suggests a statistically significant difference.\n",
    "\n",
    "    Decision-Making:\n",
    "        Used in hypothesis testing to assess the plausibility of the null hypothesis. If the hypothesized parameter value lies outside the interval, it may be rejected.\n",
    "\n",
    "Confidence intervals are crucial for interpreting statistical results, providing a measure of certainty and helping to make informed decisions based on sample data.\n",
    "\n",
    "\"\"\""
   ]
  },
  {
   "cell_type": "code",
   "execution_count": 29,
   "id": "e40aa4df",
   "metadata": {},
   "outputs": [],
   "source": [
    "#15  What is the margin of error, and how does it affect the confidence interval"
   ]
  },
  {
   "cell_type": "code",
   "execution_count": 30,
   "id": "8fc56d79",
   "metadata": {},
   "outputs": [
    {
     "data": {
      "text/plain": [
       "'\\nThe margin of error is a statistic that quantifies the amount of random sampling error in a survey’s results. \\nIt represents the range within which the true population parameter is expected to lie, with a specified level of confidence. \\nThe margin of error affects the width of the confidence interval.\\nKey Aspects of Margin of Error:\\n\\n    Calculation:\\n        The margin of error is typically calculated as the critical value (from the Z or T distribution) \\n        multiplied by the standard error of the sample statistic.\\n        For a mean, it is given by:\\n\\n        Margin of Error=Critical Value  × σ/ underoot of n\\n\\n        where (\\\\sigma) is the standard deviation and (n) is the sample size.\\n\\n    Influencing Factors:\\n        Sample Size (n): Larger sample sizes reduce the margin of error, leading to more precise estimates.\\n        Variability ((\\\\sigma)): Greater variability in the data increases the margin of error.\\n        Confidence Level: Higher confidence levels result in a larger margin of error, as they require a wider interval to ensure the true parameter is captured.\\n\\n    Effect on Confidence Interval:\\n        The margin of error determines the width of the confidence interval. A larger margin of error results in a wider interval, indicating less precision.\\n        The confidence interval is calculated as:\\n\\n        Confidence Interval=Point Estimate±Margin of ErrorConfidence Interval=Point Estimate±Margin of Error\\n\\nImportance:\\n\\n    The margin of error provides insight into the reliability and precision of the estimate. A smaller margin of error indicates more confidence in the \\n    estimate’s accuracy, while a larger margin suggests greater uncertainty. It is a crucial component in interpreting the results of statistical analyses and making informed decisions.\\n\\n'"
      ]
     },
     "execution_count": 30,
     "metadata": {},
     "output_type": "execute_result"
    }
   ],
   "source": [
    "\"\"\"\n",
    "The margin of error is a statistic that quantifies the amount of random sampling error in a survey’s results. \n",
    "It represents the range within which the true population parameter is expected to lie, with a specified level of confidence. \n",
    "The margin of error affects the width of the confidence interval.\n",
    "Key Aspects of Margin of Error:\n",
    "\n",
    "    Calculation:\n",
    "        The margin of error is typically calculated as the critical value (from the Z or T distribution) \n",
    "        multiplied by the standard error of the sample statistic.\n",
    "        For a mean, it is given by:\n",
    "\n",
    "        Margin of Error=Critical Value  × σ/ underoot of n\n",
    "\n",
    "        where (\\sigma) is the standard deviation and (n) is the sample size.\n",
    "\n",
    "    Influencing Factors:\n",
    "        Sample Size (n): Larger sample sizes reduce the margin of error, leading to more precise estimates.\n",
    "        Variability ((\\sigma)): Greater variability in the data increases the margin of error.\n",
    "        Confidence Level: Higher confidence levels result in a larger margin of error, as they require a wider interval to ensure the true parameter is captured.\n",
    "\n",
    "    Effect on Confidence Interval:\n",
    "        The margin of error determines the width of the confidence interval. A larger margin of error results in a wider interval, indicating less precision.\n",
    "        The confidence interval is calculated as:\n",
    "\n",
    "        Confidence Interval=Point Estimate±Margin of ErrorConfidence Interval=Point Estimate±Margin of Error\n",
    "\n",
    "Importance:\n",
    "\n",
    "    The margin of error provides insight into the reliability and precision of the estimate. A smaller margin of error indicates more confidence in the \n",
    "    estimate’s accuracy, while a larger margin suggests greater uncertainty. It is a crucial component in interpreting the results of statistical analyses and making informed decisions.\n",
    "\n",
    "\"\"\""
   ]
  },
  {
   "cell_type": "code",
   "execution_count": 31,
   "id": "2ee4cdf4",
   "metadata": {},
   "outputs": [],
   "source": [
    "#16 How is Bayes' Theorem used in statistics, and what is its significance?"
   ]
  },
  {
   "cell_type": "code",
   "execution_count": 32,
   "id": "b6d2a2d7",
   "metadata": {},
   "outputs": [
    {
     "data": {
      "text/plain": [
       "'\\nBayes’ Theorem is a fundamental concept in probability and statistics that describes how to update the probability of a hypothesis\\nbased on new evidence. It provides a mathematical framework for incorporating prior knowledge with new data to make informed decisions.\\n\\nBayes’ Theorem Formula:\\n\\nP(H∣E)=(P(E∣H)⋅P(H))/P(E)\\n\\n\\n    (P(H|E)): Posterior probability, the probability of the hypothesis (H) given the evidence (E).\\n    (P(E|H)): Likelihood, the probability of observing the evidence (E) given that the hypothesis (H) is true.\\n    (P(H)): Prior probability, the initial probability of the hypothesis (H) before observing the evidence.\\n    (P(E)): Marginal likelihood, the total probability of observing the evidence (E).\\n\\nUses in Statistics:\\n\\n    Updating Beliefs:\\n        Bayes’ Theorem allows for the updating of probabilities as new data becomes available, making it essential for sequential analysis and decision-making.\\n\\n    Bayesian Inference:\\n        Used to estimate parameters and make predictions by combining prior distributions with likelihood functions to obtain posterior distributions.\\n\\n    Classification:\\n        Forms the basis for Bayesian classifiers, such as the Naive Bayes classifier, used in machine learning for tasks like spam detection and sentiment analysis.\\n\\n    Hypothesis Testing:\\n        Provides a framework for comparing models or hypotheses by evaluating their posterior probabilities.\\n\\nSignificance:\\n\\n    Incorporation of Prior Knowledge: Bayes’ Theorem allows for the integration of prior information with new evidence, \\n    providing a more comprehensive approach to statistical inference.\\n    Flexibility: It can be applied to a wide range of problems, from parameter estimation to model selection.\\n    Interpretability: Offers a probabilistic interpretation of uncertainty, making it intuitive for decision-making under uncertainty.\\n\\nBayes’ Theorem is significant because it provides a robust and flexible approach to statistical inference, \\nenabling the incorporation of prior knowledge and continuous updating of beliefs as new data becomes available.\\n\\n'"
      ]
     },
     "execution_count": 32,
     "metadata": {},
     "output_type": "execute_result"
    }
   ],
   "source": [
    "\"\"\"\n",
    "Bayes’ Theorem is a fundamental concept in probability and statistics that describes how to update the probability of a hypothesis\n",
    "based on new evidence. It provides a mathematical framework for incorporating prior knowledge with new data to make informed decisions.\n",
    "\n",
    "Bayes’ Theorem Formula:\n",
    "\n",
    "P(H∣E)=(P(E∣H)⋅P(H))/P(E)\n",
    "\n",
    "\n",
    "    (P(H|E)): Posterior probability, the probability of the hypothesis (H) given the evidence (E).\n",
    "    (P(E|H)): Likelihood, the probability of observing the evidence (E) given that the hypothesis (H) is true.\n",
    "    (P(H)): Prior probability, the initial probability of the hypothesis (H) before observing the evidence.\n",
    "    (P(E)): Marginal likelihood, the total probability of observing the evidence (E).\n",
    "\n",
    "Uses in Statistics:\n",
    "\n",
    "    Updating Beliefs:\n",
    "        Bayes’ Theorem allows for the updating of probabilities as new data becomes available, making it essential for sequential analysis and decision-making.\n",
    "\n",
    "    Bayesian Inference:\n",
    "        Used to estimate parameters and make predictions by combining prior distributions with likelihood functions to obtain posterior distributions.\n",
    "\n",
    "    Classification:\n",
    "        Forms the basis for Bayesian classifiers, such as the Naive Bayes classifier, used in machine learning for tasks like spam detection and sentiment analysis.\n",
    "\n",
    "    Hypothesis Testing:\n",
    "        Provides a framework for comparing models or hypotheses by evaluating their posterior probabilities.\n",
    "\n",
    "Significance:\n",
    "\n",
    "    Incorporation of Prior Knowledge: Bayes’ Theorem allows for the integration of prior information with new evidence, \n",
    "    providing a more comprehensive approach to statistical inference.\n",
    "    Flexibility: It can be applied to a wide range of problems, from parameter estimation to model selection.\n",
    "    Interpretability: Offers a probabilistic interpretation of uncertainty, making it intuitive for decision-making under uncertainty.\n",
    "\n",
    "Bayes’ Theorem is significant because it provides a robust and flexible approach to statistical inference, \n",
    "enabling the incorporation of prior knowledge and continuous updating of beliefs as new data becomes available.\n",
    "\n",
    "\"\"\""
   ]
  },
  {
   "cell_type": "code",
   "execution_count": 33,
   "id": "a6afb7b8",
   "metadata": {},
   "outputs": [],
   "source": [
    "#17 What is the Chi-square distribution, and when is it used?"
   ]
  },
  {
   "cell_type": "code",
   "execution_count": 34,
   "id": "c6b61dfd",
   "metadata": {},
   "outputs": [
    {
     "data": {
      "text/plain": [
       "'\\nThe Chi-square distribution is a probability distribution that arises in statistics when dealing \\nwith the sum of the squares of independent standard normal random variables. \\nIt is widely used in hypothesis testing and inferential statistics.\\nCharacteristics of the Chi-square Distribution:\\n\\n    Degrees of Freedom (df):\\n        The shape of the Chi-square distribution depends on the degrees of freedom, \\n        which is typically related to the number of independent variables or categories in the data.\\n\\n    Non-negative Values:\\n        The Chi-square distribution is defined only for non-negative values, as it represents the sum of squared values.\\n\\n    Right-skewed:\\n        The distribution is right-skewed, especially for lower degrees of freedom, but becomes more symmetric as the degrees of freedom increase.\\n\\nWhen is the Chi-square Distribution Used?\\n\\n    Chi-square Test for Independence:\\n        Used to determine if there is a significant association between two categorical variables in a contingency table.\\n\\n    Chi-square Goodness-of-Fit Test:\\n        Used to assess whether observed categorical data fit a specified distribution.\\n\\n    Chi-square Test for Homogeneity:\\n        Used to compare the distribution of a categorical variable across different populations.\\n\\n    Confidence Intervals for Variance:\\n        Used to construct confidence intervals for the variance of a normally distributed population.\\n\\n'"
      ]
     },
     "execution_count": 34,
     "metadata": {},
     "output_type": "execute_result"
    }
   ],
   "source": [
    "\"\"\"\n",
    "The Chi-square distribution is a probability distribution that arises in statistics when dealing \n",
    "with the sum of the squares of independent standard normal random variables. \n",
    "It is widely used in hypothesis testing and inferential statistics.\n",
    "Characteristics of the Chi-square Distribution:\n",
    "\n",
    "    Degrees of Freedom (df):\n",
    "        The shape of the Chi-square distribution depends on the degrees of freedom, \n",
    "        which is typically related to the number of independent variables or categories in the data.\n",
    "\n",
    "    Non-negative Values:\n",
    "        The Chi-square distribution is defined only for non-negative values, as it represents the sum of squared values.\n",
    "\n",
    "    Right-skewed:\n",
    "        The distribution is right-skewed, especially for lower degrees of freedom, but becomes more symmetric as the degrees of freedom increase.\n",
    "\n",
    "When is the Chi-square Distribution Used?\n",
    "\n",
    "    Chi-square Test for Independence:\n",
    "        Used to determine if there is a significant association between two categorical variables in a contingency table.\n",
    "\n",
    "    Chi-square Goodness-of-Fit Test:\n",
    "        Used to assess whether observed categorical data fit a specified distribution.\n",
    "\n",
    "    Chi-square Test for Homogeneity:\n",
    "        Used to compare the distribution of a categorical variable across different populations.\n",
    "\n",
    "    Confidence Intervals for Variance:\n",
    "        Used to construct confidence intervals for the variance of a normally distributed population.\n",
    "\n",
    "\"\"\""
   ]
  },
  {
   "cell_type": "code",
   "execution_count": 35,
   "id": "47050cd7",
   "metadata": {},
   "outputs": [],
   "source": [
    "#18 What is the Chi-square goodness of fit test, and how is it applied?"
   ]
  },
  {
   "cell_type": "code",
   "execution_count": 36,
   "id": "a8c64b1e",
   "metadata": {},
   "outputs": [
    {
     "data": {
      "text/plain": [
       "'\\nThe Chi-square goodness of fit test is a statistical test used to determine whether observed categorical data \\nfit a specified theoretical distribution. It assesses how well the observed data match the expected frequencies \\nunder the hypothesized distribution.\\nSteps to Apply the Chi-square Goodness of Fit Test:\\n\\n    Formulate Hypotheses:\\n        Null Hypothesis (H0): The observed data follow the specified distribution.\\n        Alternative Hypothesis (H1): The observed data do not follow the specified distribution.\\n\\n    Collect Data:\\n        Gather observed frequencies for each category.\\n\\n    Calculate Expected Frequencies:\\n        Determine the expected frequencies for each category based on the hypothesized distribution.\\n\\n    Compute the Chi-square Statistic:\\n        Use the formula:\\n\\n        χ2=∑(Oi−Ei)2/Ei\\n\\n    where (O_i) is the observed frequency and (E_i) is the expected frequency for each category.\\n\\nDetermine Degrees of Freedom:\\n\\n    Calculate as (df = k - 1), where (k) is the number of categories.\\n\\nFind the Critical Value or P-value:\\n\\n    Use the Chi-square distribution table or software to find the critical value or p-value for the calculated statistic and degrees of freedom.\\n\\nMake a Decision:\\n\\n    Reject H0 if the Chi-square statistic is greater than the critical value or if the p-value is less than the significance level ((\\x07lpha)).\\n\\nInterpret the Results:\\n\\n    Conclude whether the observed data fit the specified distribution.\\n\\n\\n'"
      ]
     },
     "execution_count": 36,
     "metadata": {},
     "output_type": "execute_result"
    }
   ],
   "source": [
    "\"\"\"\n",
    "The Chi-square goodness of fit test is a statistical test used to determine whether observed categorical data \n",
    "fit a specified theoretical distribution. It assesses how well the observed data match the expected frequencies \n",
    "under the hypothesized distribution.\n",
    "Steps to Apply the Chi-square Goodness of Fit Test:\n",
    "\n",
    "    Formulate Hypotheses:\n",
    "        Null Hypothesis (H0): The observed data follow the specified distribution.\n",
    "        Alternative Hypothesis (H1): The observed data do not follow the specified distribution.\n",
    "\n",
    "    Collect Data:\n",
    "        Gather observed frequencies for each category.\n",
    "\n",
    "    Calculate Expected Frequencies:\n",
    "        Determine the expected frequencies for each category based on the hypothesized distribution.\n",
    "\n",
    "    Compute the Chi-square Statistic:\n",
    "        Use the formula:\n",
    "\n",
    "        χ2=∑(Oi−Ei)2/Ei\n",
    "\n",
    "    where (O_i) is the observed frequency and (E_i) is the expected frequency for each category.\n",
    "\n",
    "Determine Degrees of Freedom:\n",
    "\n",
    "    Calculate as (df = k - 1), where (k) is the number of categories.\n",
    "\n",
    "Find the Critical Value or P-value:\n",
    "\n",
    "    Use the Chi-square distribution table or software to find the critical value or p-value for the calculated statistic and degrees of freedom.\n",
    "\n",
    "Make a Decision:\n",
    "\n",
    "    Reject H0 if the Chi-square statistic is greater than the critical value or if the p-value is less than the significance level ((\\alpha)).\n",
    "\n",
    "Interpret the Results:\n",
    "\n",
    "    Conclude whether the observed data fit the specified distribution.\n",
    "\n",
    "\n",
    "\"\"\""
   ]
  },
  {
   "cell_type": "code",
   "execution_count": 37,
   "id": "c8308384",
   "metadata": {},
   "outputs": [],
   "source": [
    "#19 What is the F-distribution, and when is it used in hypothesis testing?"
   ]
  },
  {
   "cell_type": "code",
   "execution_count": 38,
   "id": "a14725f8",
   "metadata": {},
   "outputs": [
    {
     "data": {
      "text/plain": [
       "'\\nThe F-distribution is a probability distribution that arises in the context of comparing variances. \\nIt is used primarily in hypothesis testing when comparing two variances or in the analysis of variance (ANOVA).\\nCharacteristics of the F-distribution:\\n\\n    Degrees of Freedom:\\n        The F-distribution is defined by two sets of degrees of freedom: one for the numerator and one for the denominator. \\n        These correspond to the variances being compared.\\n\\n    Non-negative Values:\\n        The F-distribution is only defined for non-negative values, as it represents the ratio of two variances.\\n\\n    Right-skewed:\\n        The distribution is right-skewed, especially for smaller degrees of freedom, \\n        but becomes more symmetric as the degrees of freedom increase.\\n\\nWhen is the F-distribution Used?\\n\\n    Analysis of Variance (ANOVA):\\n        Used to test if there are significant differences between the means of three or more groups. The F-test in \\n        ANOVA compares the variance between group means to the variance within groups.\\n\\n    Comparing Two Variances:\\n        Used to test if two independent samples have different variances. This is known as the F-test for equality of variances.\\n\\n    Regression Analysis:\\n        Used to assess the overall significance of a regression model by comparing the model’s explained variance to the unexplained variance.\\n\\n'"
      ]
     },
     "execution_count": 38,
     "metadata": {},
     "output_type": "execute_result"
    }
   ],
   "source": [
    "\"\"\"\n",
    "The F-distribution is a probability distribution that arises in the context of comparing variances. \n",
    "It is used primarily in hypothesis testing when comparing two variances or in the analysis of variance (ANOVA).\n",
    "Characteristics of the F-distribution:\n",
    "\n",
    "    Degrees of Freedom:\n",
    "        The F-distribution is defined by two sets of degrees of freedom: one for the numerator and one for the denominator. \n",
    "        These correspond to the variances being compared.\n",
    "\n",
    "    Non-negative Values:\n",
    "        The F-distribution is only defined for non-negative values, as it represents the ratio of two variances.\n",
    "\n",
    "    Right-skewed:\n",
    "        The distribution is right-skewed, especially for smaller degrees of freedom, \n",
    "        but becomes more symmetric as the degrees of freedom increase.\n",
    "\n",
    "When is the F-distribution Used?\n",
    "\n",
    "    Analysis of Variance (ANOVA):\n",
    "        Used to test if there are significant differences between the means of three or more groups. The F-test in \n",
    "        ANOVA compares the variance between group means to the variance within groups.\n",
    "\n",
    "    Comparing Two Variances:\n",
    "        Used to test if two independent samples have different variances. This is known as the F-test for equality of variances.\n",
    "\n",
    "    Regression Analysis:\n",
    "        Used to assess the overall significance of a regression model by comparing the model’s explained variance to the unexplained variance.\n",
    "\n",
    "\"\"\""
   ]
  },
  {
   "cell_type": "code",
   "execution_count": 39,
   "id": "fecbdd93",
   "metadata": {},
   "outputs": [],
   "source": [
    "#20  What is an ANOVA test, and what are its assumptions?"
   ]
  },
  {
   "cell_type": "code",
   "execution_count": 40,
   "id": "c1f770b2",
   "metadata": {},
   "outputs": [
    {
     "data": {
      "text/plain": [
       "'\\nANOVA, or Analysis of Variance, is a statistical test used to determine if there are significant differences \\nbetween the means of three or more independent groups. It helps identify whether any of the group means are \\nstatistically different from each other.\\nKey Features of ANOVA:\\n\\n    Purpose:\\n        To test for differences among group means in a dataset.\\n        Commonly used in experimental designs to compare multiple treatments or conditions.\\n\\n    Types:\\n        One-way ANOVA: Tests differences between groups based on one independent variable.\\n        Two-way ANOVA: Tests differences based on two independent variables and can assess interaction effects.\\n\\nAssumptions of ANOVA:\\n\\n    Independence:\\n        Observations within each group and between groups should be independent.\\n\\n    Normality:\\n        The data in each group should be approximately normally distributed. \\n        This assumption is more critical for small sample sizes.\\n\\n    Homogeneity of Variances:\\n        The variances among the groups should be approximately equal. This is also known as homoscedasticity.\\n\\n    Random Sampling:\\n        Data should be collected through a process of random sampling from the population.\\n\\n'"
      ]
     },
     "execution_count": 40,
     "metadata": {},
     "output_type": "execute_result"
    }
   ],
   "source": [
    "\"\"\"\n",
    "ANOVA, or Analysis of Variance, is a statistical test used to determine if there are significant differences \n",
    "between the means of three or more independent groups. It helps identify whether any of the group means are \n",
    "statistically different from each other.\n",
    "Key Features of ANOVA:\n",
    "\n",
    "    Purpose:\n",
    "        To test for differences among group means in a dataset.\n",
    "        Commonly used in experimental designs to compare multiple treatments or conditions.\n",
    "\n",
    "    Types:\n",
    "        One-way ANOVA: Tests differences between groups based on one independent variable.\n",
    "        Two-way ANOVA: Tests differences based on two independent variables and can assess interaction effects.\n",
    "\n",
    "Assumptions of ANOVA:\n",
    "\n",
    "    Independence:\n",
    "        Observations within each group and between groups should be independent.\n",
    "\n",
    "    Normality:\n",
    "        The data in each group should be approximately normally distributed. \n",
    "        This assumption is more critical for small sample sizes.\n",
    "\n",
    "    Homogeneity of Variances:\n",
    "        The variances among the groups should be approximately equal. This is also known as homoscedasticity.\n",
    "\n",
    "    Random Sampling:\n",
    "        Data should be collected through a process of random sampling from the population.\n",
    "\n",
    "\"\"\""
   ]
  },
  {
   "cell_type": "code",
   "execution_count": 41,
   "id": "d2c0c9f4",
   "metadata": {},
   "outputs": [],
   "source": [
    "#21  What are the different types of ANOVA tests?"
   ]
  },
  {
   "cell_type": "code",
   "execution_count": 42,
   "id": "d00ebe9a",
   "metadata": {},
   "outputs": [
    {
     "data": {
      "text/plain": [
       "'\\nThere are several types of ANOVA tests, each designed to handle different experimental designs and data structures.\\nHere are the main types:\\n\\n    One-Way ANOVA:\\n        Compares the means of three or more independent groups based on one independent variable (factor).\\n        Example: Testing the effect of different diets on weight loss.\\n\\n    Two-Way ANOVA:\\n        Compares the means based on two independent variables (factors) and can assess interaction effects between them.\\n        Example: Testing the effect of different diets and exercise programs on weight loss.\\n\\n    Repeated Measures ANOVA:\\n        Used when the same subjects are measured multiple times under different conditions.\\n        Example: Testing the effect of a drug on blood pressure at different time points.\\n\\n    Multivariate ANOVA (MANOVA):\\n        Extends ANOVA to handle multiple dependent variables simultaneously.\\n        Example: Testing the effect of a treatment on both blood pressure and cholesterol levels.\\n\\n    Analysis of Covariance (ANCOVA):\\n        Combines ANOVA and regression by including one or more covariates to control for their effects.\\n        Example: Testing the effect of a treatment on weight loss while controlling for initial weight.\\n\\n    Mixed-Design ANOVA:\\n        Combines between-subjects and within-subjects factors, useful for complex experimental designs.\\n        Example: Testing the effect of a treatment over time with different groups.\\n\\n'"
      ]
     },
     "execution_count": 42,
     "metadata": {},
     "output_type": "execute_result"
    }
   ],
   "source": [
    "\"\"\"\n",
    "There are several types of ANOVA tests, each designed to handle different experimental designs and data structures.\n",
    "Here are the main types:\n",
    "\n",
    "    One-Way ANOVA:\n",
    "        Compares the means of three or more independent groups based on one independent variable (factor).\n",
    "        Example: Testing the effect of different diets on weight loss.\n",
    "\n",
    "    Two-Way ANOVA:\n",
    "        Compares the means based on two independent variables (factors) and can assess interaction effects between them.\n",
    "        Example: Testing the effect of different diets and exercise programs on weight loss.\n",
    "\n",
    "    Repeated Measures ANOVA:\n",
    "        Used when the same subjects are measured multiple times under different conditions.\n",
    "        Example: Testing the effect of a drug on blood pressure at different time points.\n",
    "\n",
    "    Multivariate ANOVA (MANOVA):\n",
    "        Extends ANOVA to handle multiple dependent variables simultaneously.\n",
    "        Example: Testing the effect of a treatment on both blood pressure and cholesterol levels.\n",
    "\n",
    "    Analysis of Covariance (ANCOVA):\n",
    "        Combines ANOVA and regression by including one or more covariates to control for their effects.\n",
    "        Example: Testing the effect of a treatment on weight loss while controlling for initial weight.\n",
    "\n",
    "    Mixed-Design ANOVA:\n",
    "        Combines between-subjects and within-subjects factors, useful for complex experimental designs.\n",
    "        Example: Testing the effect of a treatment over time with different groups.\n",
    "\n",
    "\"\"\""
   ]
  },
  {
   "cell_type": "code",
   "execution_count": 43,
   "id": "65109e26",
   "metadata": {},
   "outputs": [],
   "source": [
    "#22 What is the F-test, and how does it relate to hypothesis testing?"
   ]
  },
  {
   "cell_type": "code",
   "execution_count": 44,
   "id": "abb3bc33",
   "metadata": {},
   "outputs": [
    {
     "data": {
      "text/plain": [
       "'\\nThe F-test is a statistical test used to compare variances and assess the overall significance of models, \\nparticularly in the context of ANOVA and regression analysis. \\nIt evaluates whether the variances between groups or the explained variance in a model are significantly greater than the unexplained variance.\\nKey Features of the F-test:\\n\\n    Purpose:\\n        To determine if there are significant differences between group variances or if a model explains a significant portion of the variance in the data.\\n\\n    F-statistic:\\n        Calculated as the ratio of the variance between groups (or explained variance) to the variance within groups (or unexplained variance).\\n\\n    Distribution:\\n        The F-statistic follows an F-distribution, which is defined by two sets of degrees of freedom: one for the numerator and one for the denominator.\\n\\nHow the F-test Relates to Hypothesis Testing:\\n\\n    Formulate Hypotheses:\\n        Null Hypothesis (H0): Assumes no difference in variances or that the model does not explain more variance than expected by chance.\\n        Alternative Hypothesis (H1): Assumes a difference in variances or that the model explains a significant portion of the variance.\\n\\n    Calculate the F-statistic:\\n        For ANOVA, it compares the variance between group means to the variance within groups.\\n        For regression, it compares the explained variance to the unexplained variance.\\n\\n    Determine the Critical Value or P-value:\\n        Use the F-distribution to find the critical value or p-value for the calculated F-statistic and degrees of freedom.\\n\\n    Make a Decision:\\n        Reject H0 if the F-statistic is greater than the critical value or if the p-value is less than the significance level ((\\x07lpha)).\\n\\n    Interpret the Results:\\n        Conclude whether there is a statistically significant difference in variances or if the model is significant.\\n\\nThe F-test is a crucial component of hypothesis testing, particularly in ANOVA and regression, providing a way to assess the significance of group differences or model fit.\\n\\n'"
      ]
     },
     "execution_count": 44,
     "metadata": {},
     "output_type": "execute_result"
    }
   ],
   "source": [
    "\"\"\"\n",
    "The F-test is a statistical test used to compare variances and assess the overall significance of models, \n",
    "particularly in the context of ANOVA and regression analysis. \n",
    "It evaluates whether the variances between groups or the explained variance in a model are significantly greater than the unexplained variance.\n",
    "Key Features of the F-test:\n",
    "\n",
    "    Purpose:\n",
    "        To determine if there are significant differences between group variances or if a model explains a significant portion of the variance in the data.\n",
    "\n",
    "    F-statistic:\n",
    "        Calculated as the ratio of the variance between groups (or explained variance) to the variance within groups (or unexplained variance).\n",
    "\n",
    "    Distribution:\n",
    "        The F-statistic follows an F-distribution, which is defined by two sets of degrees of freedom: one for the numerator and one for the denominator.\n",
    "\n",
    "How the F-test Relates to Hypothesis Testing:\n",
    "\n",
    "    Formulate Hypotheses:\n",
    "        Null Hypothesis (H0): Assumes no difference in variances or that the model does not explain more variance than expected by chance.\n",
    "        Alternative Hypothesis (H1): Assumes a difference in variances or that the model explains a significant portion of the variance.\n",
    "\n",
    "    Calculate the F-statistic:\n",
    "        For ANOVA, it compares the variance between group means to the variance within groups.\n",
    "        For regression, it compares the explained variance to the unexplained variance.\n",
    "\n",
    "    Determine the Critical Value or P-value:\n",
    "        Use the F-distribution to find the critical value or p-value for the calculated F-statistic and degrees of freedom.\n",
    "\n",
    "    Make a Decision:\n",
    "        Reject H0 if the F-statistic is greater than the critical value or if the p-value is less than the significance level ((\\alpha)).\n",
    "\n",
    "    Interpret the Results:\n",
    "        Conclude whether there is a statistically significant difference in variances or if the model is significant.\n",
    "\n",
    "The F-test is a crucial component of hypothesis testing, particularly in ANOVA and regression, providing a way to assess the significance of group differences or model fit.\n",
    "\n",
    "\"\"\""
   ]
  },
  {
   "cell_type": "markdown",
   "id": "7ab93384",
   "metadata": {},
   "source": [
    "Practical"
   ]
  },
  {
   "cell_type": "code",
   "execution_count": 45,
   "id": "bd5acc69",
   "metadata": {},
   "outputs": [],
   "source": [
    "#1  Write a Python program to perform a Z-test for comparing a sample mean to a known population mean and interpret the results"
   ]
  },
  {
   "cell_type": "code",
   "execution_count": 46,
   "id": "4136344b",
   "metadata": {},
   "outputs": [
    {
     "name": "stdout",
     "output_type": "stream",
     "text": [
      "Z-statistic: 0.0000\n",
      "P-value: 1.0000\n",
      "Result: Fail to reject the null hypothesis: There is no significant difference.\n"
     ]
    }
   ],
   "source": [
    "import numpy as np\n",
    "from scipy.stats import norm\n",
    "\n",
    "def z_test(sample_data, population_mean, population_std, alpha=0.05):\n",
    "    # Calculate sample mean\n",
    "    sample_mean = np.mean(sample_data)\n",
    "    \n",
    "    # Calculate sample size\n",
    "    n = len(sample_data)\n",
    "    \n",
    "    # Calculate standard error\n",
    "    standard_error = population_std / np.sqrt(n)\n",
    "    \n",
    "    # Calculate Z-statistic\n",
    "    z_statistic = (sample_mean - population_mean) / standard_error\n",
    "    \n",
    "    # Calculate p-value (two-tailed)\n",
    "    p_value = 2 * (1 - norm.cdf(abs(z_statistic)))\n",
    "    \n",
    "    # Interpret the results\n",
    "    if p_value < alpha:\n",
    "        result = \"Reject the null hypothesis: There is a significant difference.\"\n",
    "    else:\n",
    "        result = \"Fail to reject the null hypothesis: There is no significant difference.\"\n",
    "    \n",
    "    return z_statistic, p_value, result\n",
    "\n",
    "# Example usage\n",
    "sample_data = [52, 48, 49, 51, 50, 53, 47, 49, 50, 51]\n",
    "population_mean = 50\n",
    "population_std = 5\n",
    "alpha = 0.05\n",
    "\n",
    "z_statistic, p_value, result = z_test(sample_data, population_mean, population_std, alpha)\n",
    "\n",
    "print(f\"Z-statistic: {z_statistic:.4f}\")\n",
    "print(f\"P-value: {p_value:.4f}\")\n",
    "print(f\"Result: {result}\")\n"
   ]
  },
  {
   "cell_type": "code",
   "execution_count": 47,
   "id": "eb076ef6",
   "metadata": {},
   "outputs": [],
   "source": [
    "#2 Simulate random data to perform hypothesis testing and calculate the corresponding P-value using Python"
   ]
  },
  {
   "cell_type": "code",
   "execution_count": 48,
   "id": "216d73b7",
   "metadata": {},
   "outputs": [
    {
     "name": "stdout",
     "output_type": "stream",
     "text": [
      "Sample Mean: 54.4286\n",
      "T-statistic: 2.2045\n",
      "P-value: 0.0356\n",
      "Result: Reject the null hypothesis: There is a significant difference.\n"
     ]
    }
   ],
   "source": [
    "import numpy as np\n",
    "from scipy.stats import ttest_1samp\n",
    "\n",
    "# Simulate random data from a normal distribution\n",
    "np.random.seed(0)  # For reproducibility\n",
    "population_mean = 50\n",
    "population_std = 10\n",
    "sample_size = 30\n",
    "sample_data = np.random.normal(population_mean, population_std, sample_size)\n",
    "\n",
    "# Perform a one-sample t-test\n",
    "# Null hypothesis: The sample mean is equal to the population mean\n",
    "t_statistic, p_value = ttest_1samp(sample_data, population_mean)\n",
    "\n",
    "# Interpret the results\n",
    "alpha = 0.05\n",
    "if p_value < alpha:\n",
    "    result = \"Reject the null hypothesis: There is a significant difference.\"\n",
    "else:\n",
    "    result = \"Fail to reject the null hypothesis: There is no significant difference.\"\n",
    "\n",
    "print(f\"Sample Mean: {np.mean(sample_data):.4f}\")\n",
    "print(f\"T-statistic: {t_statistic:.4f}\")\n",
    "print(f\"P-value: {p_value:.4f}\")\n",
    "print(f\"Result: {result}\")\n",
    "\n"
   ]
  },
  {
   "cell_type": "code",
   "execution_count": 49,
   "id": "5802bd01",
   "metadata": {},
   "outputs": [],
   "source": [
    "#3 Implement a one-sample Z-test using Python to compare the sample mean with the population mean"
   ]
  },
  {
   "cell_type": "code",
   "execution_count": 50,
   "id": "5515fbf6",
   "metadata": {},
   "outputs": [
    {
     "name": "stdout",
     "output_type": "stream",
     "text": [
      "Sample Mean: 54.4286\n",
      "Z-statistic: 2.4256\n",
      "P-value: 0.0153\n",
      "Result: Reject the null hypothesis: There is a significant difference.\n"
     ]
    }
   ],
   "source": [
    "import numpy as np\n",
    "from scipy.stats import norm\n",
    "\n",
    "def one_sample_z_test(sample_data, population_mean, population_std, alpha=0.05):\n",
    "    # Calculate sample mean\n",
    "    sample_mean = np.mean(sample_data)\n",
    "    \n",
    "    # Calculate sample size\n",
    "    n = len(sample_data)\n",
    "    \n",
    "    # Calculate standard error\n",
    "    standard_error = population_std / np.sqrt(n)\n",
    "    \n",
    "    # Calculate Z-statistic\n",
    "    z_statistic = (sample_mean - population_mean) / standard_error\n",
    "    \n",
    "    # Calculate p-value (two-tailed)\n",
    "    p_value = 2 * (1 - norm.cdf(abs(z_statistic)))\n",
    "    \n",
    "    # Interpret the results\n",
    "    if p_value < alpha:\n",
    "        result = \"Reject the null hypothesis: There is a significant difference.\"\n",
    "    else:\n",
    "        result = \"Fail to reject the null hypothesis: There is no significant difference.\"\n",
    "    \n",
    "    return z_statistic, p_value, result\n",
    "\n",
    "# Example usage\n",
    "np.random.seed(0)  # For reproducibility\n",
    "population_mean = 50\n",
    "population_std = 10\n",
    "sample_size = 30\n",
    "sample_data = np.random.normal(population_mean, population_std, sample_size)\n",
    "\n",
    "z_statistic, p_value, result = one_sample_z_test(sample_data, population_mean, population_std)\n",
    "\n",
    "print(f\"Sample Mean: {np.mean(sample_data):.4f}\")\n",
    "print(f\"Z-statistic: {z_statistic:.4f}\")\n",
    "print(f\"P-value: {p_value:.4f}\")\n",
    "print(f\"Result: {result}\")\n"
   ]
  },
  {
   "cell_type": "code",
   "execution_count": 51,
   "id": "1b931d35",
   "metadata": {},
   "outputs": [],
   "source": [
    "#4 Perform a two-tailed Z-test using Python and visualize the decision region on a plot"
   ]
  },
  {
   "cell_type": "code",
   "execution_count": 52,
   "id": "288309b1",
   "metadata": {},
   "outputs": [
    {
     "data": {
      "image/png": "[encoded data removed]",
      "text/plain": [
       "<Figure size 640x480 with 1 Axes>"
      ]
     },
     "metadata": {},
     "output_type": "display_data"
    },
    {
     "name": "stdout",
     "output_type": "stream",
     "text": [
      "Sample Mean: 54.4286\n",
      "Z-statistic: 2.4256\n",
      "P-value: 0.0153\n",
      "Result: Reject the null hypothesis: There is a significant difference.\n"
     ]
    }
   ],
   "source": [
    "import numpy as np\n",
    "from scipy.stats import norm\n",
    "import matplotlib.pyplot as plt\n",
    "\n",
    "def two_tailed_z_test(sample_data, population_mean, population_std, alpha=0.05):\n",
    "    # Calculate sample mean\n",
    "    sample_mean = np.mean(sample_data)\n",
    "    \n",
    "    # Calculate sample size\n",
    "    n = len(sample_data)\n",
    "    \n",
    "    # Calculate standard error\n",
    "    standard_error = population_std / np.sqrt(n)\n",
    "    \n",
    "    # Calculate Z-statistic\n",
    "    z_statistic = (sample_mean - population_mean) / standard_error\n",
    "    \n",
    "    # Calculate p-value (two-tailed)\n",
    "    p_value = 2 * (1 - norm.cdf(abs(z_statistic)))\n",
    "    \n",
    "    # Interpret the results\n",
    "    if p_value < alpha:\n",
    "        result = \"Reject the null hypothesis: There is a significant difference.\"\n",
    "    else:\n",
    "        result = \"Fail to reject the null hypothesis: There is no significant difference.\"\n",
    "    \n",
    "    return z_statistic, p_value, result\n",
    "\n",
    "# Example usage\n",
    "np.random.seed(0)  # For reproducibility\n",
    "population_mean = 50\n",
    "population_std = 10\n",
    "sample_size = 30\n",
    "sample_data = np.random.normal(population_mean, population_std, sample_size)\n",
    "\n",
    "z_statistic, p_value, result = two_tailed_z_test(sample_data, population_mean, population_std)\n",
    "\n",
    "# Plotting the decision region\n",
    "x = np.linspace(-4, 4, 1000)\n",
    "y = norm.pdf(x, 0, 1)\n",
    "\n",
    "plt.plot(x, y, label='Standard Normal Distribution')\n",
    "plt.fill_between(x, 0, y, where=(x < norm.ppf(alpha/2)) | (x > norm.ppf(1 - alpha/2)), color='red', alpha=0.5, label='Rejection Region')\n",
    "plt.axvline(z_statistic, color='blue', linestyle='--', label=f'Z-statistic = {z_statistic:.2f}')\n",
    "plt.title('Two-tailed Z-test Decision Region')\n",
    "plt.xlabel('Z')\n",
    "plt.ylabel('Probability Density')\n",
    "plt.legend()\n",
    "plt.show()\n",
    "\n",
    "print(f\"Sample Mean: {np.mean(sample_data):.4f}\")\n",
    "print(f\"Z-statistic: {z_statistic:.4f}\")\n",
    "print(f\"P-value: {p_value:.4f}\")\n",
    "print(f\"Result: {result}\")\n"
   ]
  },
  {
   "cell_type": "code",
   "execution_count": 53,
   "id": "9e919f1d",
   "metadata": {},
   "outputs": [],
   "source": [
    " #5 Create a Python function that calculates and visualizes Type 1 and Type 2 errors during hypothesis testing"
   ]
  },
  {
   "cell_type": "code",
   "execution_count": 54,
   "id": "834659f7",
   "metadata": {},
   "outputs": [
    {
     "data": {
      "image/png": "[encoded data removed]",
      "text/plain": [
       "<Figure size 640x480 with 1 Axes>"
      ]
     },
     "metadata": {},
     "output_type": "display_data"
    },
    {
     "name": "stdout",
     "output_type": "stream",
     "text": [
      "Type I Error Probability (alpha): 0.05\n",
      "Type II Error Probability (beta): 0.6127\n"
     ]
    }
   ],
   "source": [
    "def visualize_errors(population_mean, sample_mean, population_std, sample_size, alpha=0.05):\n",
    "    # Calculate standard error\n",
    "    standard_error = population_std / np.sqrt(sample_size)\n",
    "    \n",
    "    # Calculate critical Z-values for two-tailed test\n",
    "    z_critical = norm.ppf(1 - alpha/2)\n",
    "    \n",
    "    # Calculate Type I error region\n",
    "    type1_error_left = population_mean - z_critical * standard_error\n",
    "    type1_error_right = population_mean + z_critical * standard_error\n",
    "    \n",
    "    # Calculate Type II error region\n",
    "    z_beta = (type1_error_right - sample_mean) / standard_error\n",
    "    beta = norm.cdf(z_beta) - norm.cdf(-z_beta)\n",
    "    \n",
    "    # Plotting\n",
    "    x = np.linspace(population_mean - 4*population_std, population_mean + 4*population_std, 1000)\n",
    "    y = norm.pdf(x, population_mean, standard_error)\n",
    "    y_alt = norm.pdf(x, sample_mean, standard_error)\n",
    "    \n",
    "    plt.plot(x, y, label='Null Hypothesis Distribution')\n",
    "    plt.plot(x, y_alt, label='Alternative Hypothesis Distribution', linestyle='--')\n",
    "    \n",
    "    plt.fill_between(x, 0, y, where=(x < type1_error_left) | (x > type1_error_right), color='red', alpha=0.5, label='Type I Error Region')\n",
    "    plt.fill_between(x, 0, y_alt, where=(x > type1_error_left) & (x < type1_error_right), color='blue', alpha=0.5, label='Type II Error Region')\n",
    "    \n",
    "    plt.axvline(type1_error_left, color='black', linestyle='--')\n",
    "    plt.axvline(type1_error_right, color='black', linestyle='--')\n",
    "    \n",
    "    plt.title('Type I and Type II Errors')\n",
    "    plt.xlabel('Sample Mean')\n",
    "    plt.ylabel('Probability Density')\n",
    "    plt.legend()\n",
    "    plt.show()\n",
    "    \n",
    "    print(f\"Type I Error Probability (alpha): {alpha}\")\n",
    "    print(f\"Type II Error Probability (beta): {beta:.4f}\")\n",
    "\n",
    "# Example usage\n",
    "population_mean = 50\n",
    "sample_mean = 52\n",
    "population_std = 10\n",
    "sample_size = 30\n",
    "alpha = 0.05\n",
    "\n",
    "visualize_errors(population_mean, sample_mean, population_std, sample_size, alpha)\n"
   ]
  },
  {
   "cell_type": "code",
   "execution_count": 55,
   "id": "48bad0b3",
   "metadata": {},
   "outputs": [],
   "source": [
    "#6 Write a Python program to perform an independent T-test and interpret the results"
   ]
  },
  {
   "cell_type": "code",
   "execution_count": 56,
   "id": "6d5ea449",
   "metadata": {},
   "outputs": [
    {
     "name": "stdout",
     "output_type": "stream",
     "text": [
      "Sample 1 Mean: 54.4286\n",
      "Sample 2 Mean: 52.1048\n",
      "T-statistic: 0.8897\n",
      "P-value: 0.3774\n",
      "Result: Fail to reject the null hypothesis: There is no significant difference between the two groups.\n"
     ]
    }
   ],
   "source": [
    "import numpy as np\n",
    "from scipy.stats import ttest_ind\n",
    "\n",
    "def independent_t_test(sample1, sample2, alpha=0.05):\n",
    "    # Perform the independent t-test\n",
    "    t_statistic, p_value = ttest_ind(sample1, sample2, equal_var=False)  # Use equal_var=False for Welch's t-test\n",
    "    \n",
    "    # Interpret the results\n",
    "    if p_value < alpha:\n",
    "        result = \"Reject the null hypothesis: There is a significant difference between the two groups.\"\n",
    "    else:\n",
    "        result = \"Fail to reject the null hypothesis: There is no significant difference between the two groups.\"\n",
    "    \n",
    "    return t_statistic, p_value, result\n",
    "\n",
    "# Example usage\n",
    "np.random.seed(0)  # For reproducibility\n",
    "sample1 = np.random.normal(50, 10, 30)  # Sample from group 1\n",
    "sample2 = np.random.normal(55, 10, 30)  # Sample from group 2\n",
    "\n",
    "t_statistic, p_value, result = independent_t_test(sample1, sample2)\n",
    "\n",
    "print(f\"Sample 1 Mean: {np.mean(sample1):.4f}\")\n",
    "print(f\"Sample 2 Mean: {np.mean(sample2):.4f}\")\n",
    "print(f\"T-statistic: {t_statistic:.4f}\")\n",
    "print(f\"P-value: {p_value:.4f}\")\n",
    "print(f\"Result: {result}\")\n"
   ]
  },
  {
   "cell_type": "code",
   "execution_count": 57,
   "id": "0cc6cc2b",
   "metadata": {},
   "outputs": [],
   "source": [
    "#7  Perform a paired sample T-test using Python and visualize the comparison results"
   ]
  },
  {
   "cell_type": "code",
   "execution_count": 58,
   "id": "72ec32e2",
   "metadata": {},
   "outputs": [
    {
     "data": {
      "image/png": "[encoded data removed]",
      "text/plain": [
       "<Figure size 1000x500 with 1 Axes>"
      ]
     },
     "metadata": {},
     "output_type": "display_data"
    },
    {
     "name": "stdout",
     "output_type": "stream",
     "text": [
      "Sample 1 Mean (Before): 52.2143\n",
      "Sample 2 Mean (After): 50.7667\n",
      "T-statistic: 1.7345\n",
      "P-value: 0.0934\n",
      "Result: Fail to reject the null hypothesis: There is no significant difference between the paired samples.\n"
     ]
    }
   ],
   "source": [
    "\n",
    "from scipy.stats import ttest_rel\n",
    "def paired_t_test(sample1, sample2, alpha=0.05):\n",
    "    # Perform the paired t-test\n",
    "    t_statistic, p_value = ttest_rel(sample1, sample2)\n",
    "    \n",
    "    # Interpret the results\n",
    "    if p_value < alpha:\n",
    "        result = \"Reject the null hypothesis: There is a significant difference between the paired samples.\"\n",
    "    else:\n",
    "        result = \"Fail to reject the null hypothesis: There is no significant difference between the paired samples.\"\n",
    "    \n",
    "    return t_statistic, p_value, result\n",
    "\n",
    "# Example usage\n",
    "np.random.seed(0)  # For reproducibility\n",
    "sample1 = np.random.normal(50, 5, 30)  # Sample before treatment\n",
    "sample2 = sample1 + np.random.normal(0, 5, 30)  # Sample after treatment\n",
    "\n",
    "t_statistic, p_value, result = paired_t_test(sample1, sample2)\n",
    "\n",
    "# Visualization\n",
    "plt.figure(figsize=(10, 5))\n",
    "plt.plot(sample1, label='Before Treatment', marker='o')\n",
    "plt.plot(sample2, label='After Treatment', marker='o')\n",
    "plt.title('Paired Sample Comparison')\n",
    "plt.xlabel('Sample Index')\n",
    "plt.ylabel('Value')\n",
    "plt.legend()\n",
    "plt.show()\n",
    "\n",
    "print(f\"Sample 1 Mean (Before): {np.mean(sample1):.4f}\")\n",
    "print(f\"Sample 2 Mean (After): {np.mean(sample2):.4f}\")\n",
    "print(f\"T-statistic: {t_statistic:.4f}\")\n",
    "print(f\"P-value: {p_value:.4f}\")\n",
    "print(f\"Result: {result}\")\n"
   ]
  },
  {
   "cell_type": "code",
   "execution_count": 59,
   "id": "400969b7",
   "metadata": {},
   "outputs": [],
   "source": [
    "#8 Simulate data and perform both Z-test and T-test, then compare the results using Python"
   ]
  },
  {
   "cell_type": "code",
   "execution_count": 60,
   "id": "d80e4d98",
   "metadata": {},
   "outputs": [
    {
     "name": "stdout",
     "output_type": "stream",
     "text": [
      "Z-test Results:\n",
      "Z-statistic: 2.4256\n",
      "P-value: 0.0153\n",
      "\n",
      "T-test Results:\n",
      "T-statistic: 2.2045\n",
      "P-value: 0.0356\n"
     ]
    }
   ],
   "source": [
    "import numpy as np\n",
    "from scipy.stats import norm, ttest_1samp\n",
    "\n",
    "def z_test(sample_data, population_mean, population_std):\n",
    "    # Calculate sample mean\n",
    "    sample_mean = np.mean(sample_data)\n",
    "    \n",
    "    # Calculate sample size\n",
    "    n = len(sample_data)\n",
    "    \n",
    "    # Calculate standard error\n",
    "    standard_error = population_std / np.sqrt(n)\n",
    "    \n",
    "    # Calculate Z-statistic\n",
    "    z_statistic = (sample_mean - population_mean) / standard_error\n",
    "    \n",
    "    # Calculate p-value (two-tailed)\n",
    "    p_value = 2 * (1 - norm.cdf(abs(z_statistic)))\n",
    "    \n",
    "    return z_statistic, p_value\n",
    "\n",
    "def t_test(sample_data, population_mean):\n",
    "    # Perform the one-sample t-test\n",
    "    t_statistic, p_value = ttest_1samp(sample_data, population_mean)\n",
    "    \n",
    "    return t_statistic, p_value\n",
    "\n",
    "# Simulate data\n",
    "np.random.seed(0)  # For reproducibility\n",
    "population_mean = 50\n",
    "population_std = 10\n",
    "sample_size = 30\n",
    "sample_data = np.random.normal(population_mean, population_std, sample_size)\n",
    "\n",
    "# Perform Z-test\n",
    "z_statistic, z_p_value = z_test(sample_data, population_mean, population_std)\n",
    "\n",
    "# Perform T-test\n",
    "t_statistic, t_p_value = t_test(sample_data, population_mean)\n",
    "\n",
    "# Compare results\n",
    "print(\"Z-test Results:\")\n",
    "print(f\"Z-statistic: {z_statistic:.4f}\")\n",
    "print(f\"P-value: {z_p_value:.4f}\")\n",
    "\n",
    "print(\"\\nT-test Results:\")\n",
    "print(f\"T-statistic: {t_statistic:.4f}\")\n",
    "print(f\"P-value: {t_p_value:.4f}\")\n"
   ]
  },
  {
   "cell_type": "code",
   "execution_count": 61,
   "id": "124bc233",
   "metadata": {},
   "outputs": [],
   "source": [
    "#9  Write a Python function to calculate the confidence interval for a sample mean and explain its significance."
   ]
  },
  {
   "cell_type": "code",
   "execution_count": 62,
   "id": "ec98a09b",
   "metadata": {},
   "outputs": [
    {
     "name": "stdout",
     "output_type": "stream",
     "text": [
      "95% Confidence Interval: (50.3198706400115, 58.53725830525198)\n"
     ]
    }
   ],
   "source": [
    "import numpy as np\n",
    "from scipy.stats import t\n",
    "\n",
    "def confidence_interval(sample_data, confidence_level=0.95):\n",
    "    # Calculate sample mean\n",
    "    sample_mean = np.mean(sample_data)\n",
    "    \n",
    "    # Calculate sample standard deviation\n",
    "    sample_std = np.std(sample_data, ddof=1)\n",
    "    \n",
    "    # Calculate sample size\n",
    "    n = len(sample_data)\n",
    "    \n",
    "    # Calculate standard error\n",
    "    standard_error = sample_std / np.sqrt(n)\n",
    "    \n",
    "    # Determine the t-critical value for the given confidence level\n",
    "    t_critical = t.ppf((1 + confidence_level) / 2, df=n-1)\n",
    "    \n",
    "    # Calculate the margin of error\n",
    "    margin_of_error = t_critical * standard_error\n",
    "    \n",
    "    # Calculate the confidence interval\n",
    "    confidence_interval = (sample_mean - margin_of_error, sample_mean + margin_of_error)\n",
    "    \n",
    "    return confidence_interval\n",
    "\n",
    "# Example usage\n",
    "np.random.seed(0)  # For reproducibility\n",
    "sample_data = np.random.normal(50, 10, 30)  # Simulated sample data\n",
    "\n",
    "ci = confidence_interval(sample_data, confidence_level=0.95)\n",
    "print(f\"95% Confidence Interval: {ci}\")\n"
   ]
  },
  {
   "cell_type": "code",
   "execution_count": 63,
   "id": "7bbacdcf",
   "metadata": {},
   "outputs": [],
   "source": [
    "#10  Write a Python program to calculate the margin of error for a given confidence level using sample data"
   ]
  },
  {
   "cell_type": "code",
   "execution_count": 64,
   "id": "53d40a9d",
   "metadata": {},
   "outputs": [
    {
     "name": "stdout",
     "output_type": "stream",
     "text": [
      "Margin of Error (95% Confidence Level): 4.1087\n"
     ]
    }
   ],
   "source": [
    "import numpy as np\n",
    "from scipy.stats import t\n",
    "\n",
    "def calculate_margin_of_error(sample_data, confidence_level=0.95):\n",
    "    # Calculate sample standard deviation\n",
    "    sample_std = np.std(sample_data, ddof=1)\n",
    "    \n",
    "    # Calculate sample size\n",
    "    n = len(sample_data)\n",
    "    \n",
    "    # Calculate standard error\n",
    "    standard_error = sample_std / np.sqrt(n)\n",
    "    \n",
    "    # Determine the t-critical value for the given confidence level\n",
    "    t_critical = t.ppf((1 + confidence_level) / 2, df=n-1)\n",
    "    \n",
    "    # Calculate the margin of error\n",
    "    margin_of_error = t_critical * standard_error\n",
    "    \n",
    "    return margin_of_error\n",
    "\n",
    "# Example usage\n",
    "np.random.seed(0)  # For reproducibility\n",
    "sample_data = np.random.normal(50, 10, 30)  # Simulated sample data\n",
    "\n",
    "margin_of_error = calculate_margin_of_error(sample_data, confidence_level=0.95)\n",
    "print(f\"Margin of Error (95% Confidence Level): {margin_of_error:.4f}\")\n"
   ]
  },
  {
   "cell_type": "code",
   "execution_count": 65,
   "id": "50733d00",
   "metadata": {},
   "outputs": [],
   "source": [
    "#11 Implement a Bayesian inference method using Bayes' Theorem in Python and explain the process"
   ]
  },
  {
   "cell_type": "code",
   "execution_count": 66,
   "id": "8e2224b3",
   "metadata": {},
   "outputs": [
    {
     "name": "stdout",
     "output_type": "stream",
     "text": [
      "Posterior Probability of Coin Being Biased Towards Heads: 0.8000\n"
     ]
    }
   ],
   "source": [
    "def bayesian_inference(prior, likelihood, evidence):\n",
    "    # Calculate the posterior probability using Bayes' Theorem\n",
    "    posterior = (likelihood * prior) / evidence\n",
    "    return posterior\n",
    "\n",
    "# Define the prior probability (initial belief)\n",
    "prior_heads = 0.5  # Assume the coin is fair initially\n",
    "\n",
    "# Define the likelihood (probability of observing the data given the hypothesis)\n",
    "# Let's say we observed 8 heads in 10 flips\n",
    "likelihood_heads = 0.8  # Probability of observing heads if the coin is biased\n",
    "\n",
    "# Define the evidence (total probability of observing the data)\n",
    "# Assume equal likelihood for heads and tails\n",
    "evidence = 0.5 * likelihood_heads + 0.5 * (1 - likelihood_heads)\n",
    "\n",
    "# Calculate the posterior probability\n",
    "posterior_heads = bayesian_inference(prior_heads, likelihood_heads, evidence)\n",
    "\n",
    "print(f\"Posterior Probability of Coin Being Biased Towards Heads: {posterior_heads:.4f}\")\n"
   ]
  },
  {
   "cell_type": "code",
   "execution_count": 67,
   "id": "c116b784",
   "metadata": {},
   "outputs": [],
   "source": [
    "#12  Perform a Chi-square test for independence between two categorical variables in Python"
   ]
  },
  {
   "cell_type": "code",
   "execution_count": 68,
   "id": "0c41cc2d",
   "metadata": {},
   "outputs": [
    {
     "name": "stdout",
     "output_type": "stream",
     "text": [
      "Chi-square Statistic: 15.0417\n",
      "P-value: 0.0001\n",
      "Degrees of Freedom: 1\n",
      "Expected Frequencies:\n",
      "[[20. 20.]\n",
      " [30. 30.]]\n",
      "Result: Reject the null hypothesis: There is a significant association between the variables.\n"
     ]
    }
   ],
   "source": [
    "import numpy as np\n",
    "from scipy.stats import chi2_contingency\n",
    "\n",
    "# Create a contingency table\n",
    "# Rows: Gender (Male, Female)\n",
    "# Columns: Preference (Like, Dislike)\n",
    "data = np.array([[30, 10],  # Male\n",
    "                 [20, 40]]) # Female\n",
    "\n",
    "# Perform the Chi-square test for independence\n",
    "chi2_statistic, p_value, dof, expected = chi2_contingency(data)\n",
    "\n",
    "# Interpret the results\n",
    "alpha = 0.05\n",
    "if p_value < alpha:\n",
    "    result = \"Reject the null hypothesis: There is a significant association between the variables.\"\n",
    "else:\n",
    "    result = \"Fail to reject the null hypothesis: There is no significant association between the variables.\"\n",
    "\n",
    "print(f\"Chi-square Statistic: {chi2_statistic:.4f}\")\n",
    "print(f\"P-value: {p_value:.4f}\")\n",
    "print(f\"Degrees of Freedom: {dof}\")\n",
    "print(f\"Expected Frequencies:\\n{expected}\")\n",
    "print(f\"Result: {result}\")\n"
   ]
  },
  {
   "cell_type": "code",
   "execution_count": 69,
   "id": "4dbf4d5b",
   "metadata": {},
   "outputs": [],
   "source": [
    "#13  Write a Python program to calculate the expected frequencies for a Chi-square test based on observed data"
   ]
  },
  {
   "cell_type": "code",
   "execution_count": 70,
   "id": "629fb597",
   "metadata": {},
   "outputs": [
    {
     "name": "stdout",
     "output_type": "stream",
     "text": [
      "Observed Frequencies:\n",
      "[[30 10]\n",
      " [20 40]]\n",
      "\n",
      "Expected Frequencies:\n",
      "[[20. 20.]\n",
      " [30. 30.]]\n"
     ]
    }
   ],
   "source": [
    "import numpy as np\n",
    "\n",
    "def calculate_expected_frequencies(observed):\n",
    "    # Calculate the total sum of the observed frequencies\n",
    "    total = np.sum(observed)\n",
    "    \n",
    "    # Calculate the sum of each row and each column\n",
    "    row_sums = np.sum(observed, axis=1)\n",
    "    col_sums = np.sum(observed, axis=0)\n",
    "    \n",
    "    # Calculate the expected frequencies\n",
    "    expected = np.outer(row_sums, col_sums) / total\n",
    "    \n",
    "    return expected\n",
    "\n",
    "# Example usage\n",
    "# Create a contingency table of observed frequencies\n",
    "# Rows: Gender (Male, Female)\n",
    "# Columns: Preference (Like, Dislike)\n",
    "observed_data = np.array([[30, 10],  # Male\n",
    "                          [20, 40]]) # Female\n",
    "\n",
    "expected_frequencies = calculate_expected_frequencies(observed_data)\n",
    "\n",
    "print(\"Observed Frequencies:\")\n",
    "print(observed_data)\n",
    "print(\"\\nExpected Frequencies:\")\n",
    "print(expected_frequencies)\n"
   ]
  },
  {
   "cell_type": "code",
   "execution_count": 71,
   "id": "67f4a75f",
   "metadata": {},
   "outputs": [],
   "source": [
    "#14  Perform a goodness-of-fit test using Python to compare the observed data to an expected distribution"
   ]
  },
  {
   "cell_type": "code",
   "execution_count": 72,
   "id": "3768d6f4",
   "metadata": {},
   "outputs": [
    {
     "name": "stdout",
     "output_type": "stream",
     "text": [
      "Chi-square Statistic: 1.0000\n",
      "P-value: 0.9626\n",
      "Result: Fail to reject the null hypothesis: The observed data fit the expected distribution.\n"
     ]
    }
   ],
   "source": [
    "import numpy as np\n",
    "from scipy.stats import chisquare\n",
    "\n",
    "# Observed frequencies from rolling a die 60 times\n",
    "observed_data = np.array([8, 9, 10, 12, 11, 10])\n",
    "\n",
    "# Expected frequencies for a fair die (each face should appear 10 times)\n",
    "expected_data = np.array([10, 10, 10, 10, 10, 10])\n",
    "\n",
    "# Perform the Chi-square goodness-of-fit test\n",
    "chi2_statistic, p_value = chisquare(f_obs=observed_data, f_exp=expected_data)\n",
    "\n",
    "# Interpret the results\n",
    "alpha = 0.05\n",
    "if p_value < alpha:\n",
    "    result = \"Reject the null hypothesis: The observed data do not fit the expected distribution.\"\n",
    "else:\n",
    "    result = \"Fail to reject the null hypothesis: The observed data fit the expected distribution.\"\n",
    "\n",
    "print(f\"Chi-square Statistic: {chi2_statistic:.4f}\")\n",
    "print(f\"P-value: {p_value:.4f}\")\n",
    "print(f\"Result: {result}\")\n"
   ]
  },
  {
   "cell_type": "code",
   "execution_count": 73,
   "id": "09e2b3bf",
   "metadata": {},
   "outputs": [],
   "source": [
    "#15 Create a Python script to simulate and visualize the Chi-square distribution and discuss its characteristicsD"
   ]
  },
  {
   "cell_type": "code",
   "execution_count": 74,
   "id": "4b518523",
   "metadata": {},
   "outputs": [
    {
     "data": {
      "image/png": "[encoded data removed]",
      "text/plain": [
       "<Figure size 640x480 with 1 Axes>"
      ]
     },
     "metadata": {},
     "output_type": "display_data"
    }
   ],
   "source": [
    "import numpy as np\n",
    "import matplotlib.pyplot as plt\n",
    "from scipy.stats import chi2\n",
    "\n",
    "def simulate_chi_square(df, num_samples=1000):\n",
    "    # Generate random samples from a Chi-square distribution\n",
    "    samples = np.random.chisquare(df, num_samples)\n",
    "    return samples\n",
    "\n",
    "def plot_chi_square_distribution(df, num_samples=1000):\n",
    "    # Simulate Chi-square distribution\n",
    "    samples = simulate_chi_square(df, num_samples)\n",
    "    \n",
    "    # Plot histogram of the samples\n",
    "    plt.hist(samples, bins=30, density=True, alpha=0.6, color='g', label='Simulated Data')\n",
    "    \n",
    "    # Plot the theoretical Chi-square PDF\n",
    "    x = np.linspace(0, max(samples), 1000)\n",
    "    pdf = chi2.pdf(x, df)\n",
    "    plt.plot(x, pdf, 'r-', lw=2, label=f'Chi-square PDF (df={df})')\n",
    "    \n",
    "    # Add labels and title\n",
    "    plt.title(f'Chi-square Distribution (df={df})')\n",
    "    plt.xlabel('Value')\n",
    "    plt.ylabel('Density')\n",
    "    plt.legend()\n",
    "    plt.show()\n",
    "\n",
    "# Example usage\n",
    "degrees_of_freedom = 5\n",
    "plot_chi_square_distribution(degrees_of_freedom)\n"
   ]
  },
  {
   "cell_type": "code",
   "execution_count": 75,
   "id": "f12800e3",
   "metadata": {},
   "outputs": [],
   "source": [
    "#16 Implement an F-test using Python to compare the variances of two random samples"
   ]
  },
  {
   "cell_type": "code",
   "execution_count": 76,
   "id": "bbf9465d",
   "metadata": {},
   "outputs": [
    {
     "name": "stdout",
     "output_type": "stream",
     "text": [
      "F-statistic: 1.5533\n",
      "P-value: 0.2416\n",
      "Result: Fail to reject the null hypothesis: The variances are not significantly different.\n"
     ]
    }
   ],
   "source": [
    "import numpy as np\n",
    "from scipy.stats import f\n",
    "\n",
    "def f_test(sample1, sample2):\n",
    "    # Calculate the variances of the two samples\n",
    "    var1 = np.var(sample1, ddof=1)\n",
    "    var2 = np.var(sample2, ddof=1)\n",
    "    \n",
    "    # Calculate the F-statistic\n",
    "    f_statistic = var1 / var2 if var1 > var2 else var2 / var1\n",
    "    \n",
    "    # Calculate the degrees of freedom\n",
    "    df1 = len(sample1) - 1\n",
    "    df2 = len(sample2) - 1\n",
    "    \n",
    "    # Calculate the p-value\n",
    "    p_value = 1 - f.cdf(f_statistic, df1, df2)\n",
    "    \n",
    "    # Adjust p-value for two-tailed test\n",
    "    p_value *= 2\n",
    "    \n",
    "    return f_statistic, p_value\n",
    "\n",
    "# Example usage\n",
    "np.random.seed(0)  # For reproducibility\n",
    "sample1 = np.random.normal(50, 10, 30)  # Sample 1\n",
    "sample2 = np.random.normal(50, 15, 30)  # Sample 2 with a different variance\n",
    "\n",
    "f_statistic, p_value = f_test(sample1, sample2)\n",
    "\n",
    "# Interpret the results\n",
    "alpha = 0.05\n",
    "if p_value < alpha:\n",
    "    result = \"Reject the null hypothesis: The variances are significantly different.\"\n",
    "else:\n",
    "    result = \"Fail to reject the null hypothesis: The variances are not significantly different.\"\n",
    "\n",
    "print(f\"F-statistic: {f_statistic:.4f}\")\n",
    "print(f\"P-value: {p_value:.4f}\")\n",
    "print(f\"Result: {result}\")\n"
   ]
  },
  {
   "cell_type": "code",
   "execution_count": 77,
   "id": "3b2519d1",
   "metadata": {},
   "outputs": [],
   "source": [
    "#17 Write a Python program to perform an ANOVA test to compare means between multiple groups and interpret the results"
   ]
  },
  {
   "cell_type": "code",
   "execution_count": 78,
   "id": "e778880d",
   "metadata": {},
   "outputs": [
    {
     "name": "stdout",
     "output_type": "stream",
     "text": [
      "F-statistic: 3.3415\n",
      "P-value: 0.0400\n",
      "Result: Reject the null hypothesis: There is a significant difference between the group means.\n"
     ]
    }
   ],
   "source": [
    "import numpy as np\n",
    "from scipy.stats import f_oneway\n",
    "\n",
    "def anova_test(*groups):\n",
    "    # Perform the one-way ANOVA test\n",
    "    f_statistic, p_value = f_oneway(*groups)\n",
    "    \n",
    "    # Interpret the results\n",
    "    alpha = 0.05\n",
    "    if p_value < alpha:\n",
    "        result = \"Reject the null hypothesis: There is a significant difference between the group means.\"\n",
    "    else:\n",
    "        result = \"Fail to reject the null hypothesis: There is no significant difference between the group means.\"\n",
    "    \n",
    "    return f_statistic, p_value, result\n",
    "\n",
    "# Example usage\n",
    "np.random.seed(0)  # For reproducibility\n",
    "group1 = np.random.normal(50, 10, 30)  # Group 1\n",
    "group2 = np.random.normal(55, 10, 30)  # Group 2\n",
    "group3 = np.random.normal(60, 10, 30)  # Group 3\n",
    "\n",
    "f_statistic, p_value, result = anova_test(group1, group2, group3)\n",
    "\n",
    "print(f\"F-statistic: {f_statistic:.4f}\")\n",
    "print(f\"P-value: {p_value:.4f}\")\n",
    "print(f\"Result: {result}\")\n"
   ]
  },
  {
   "cell_type": "code",
   "execution_count": 79,
   "id": "fe0ba6b4",
   "metadata": {},
   "outputs": [],
   "source": [
    "#18 Perform a one-way ANOVA test using Python to compare the means of different groups and plot the results"
   ]
  },
  {
   "cell_type": "code",
   "execution_count": 80,
   "id": "64c151b8",
   "metadata": {},
   "outputs": [
    {
     "name": "stdout",
     "output_type": "stream",
     "text": [
      "F-statistic: 3.3415\n",
      "P-value: 0.0400\n",
      "Result: Reject the null hypothesis: There is a significant difference between the group means.\n"
     ]
    },
    {
     "data": {
      "image/png": "[encoded data removed]",
      "text/plain": [
       "<Figure size 640x480 with 1 Axes>"
      ]
     },
     "metadata": {},
     "output_type": "display_data"
    }
   ],
   "source": [
    "import numpy as np\n",
    "from scipy.stats import f_oneway\n",
    "import matplotlib.pyplot as plt\n",
    "\n",
    "def anova_test(*groups):\n",
    "    # Perform the one-way ANOVA test\n",
    "    f_statistic, p_value = f_oneway(*groups)\n",
    "    \n",
    "    # Interpret the results\n",
    "    alpha = 0.05\n",
    "    if p_value < alpha:\n",
    "        result = \"Reject the null hypothesis: There is a significant difference between the group means.\"\n",
    "    else:\n",
    "        result = \"Fail to reject the null hypothesis: There is no significant difference between the group means.\"\n",
    "    \n",
    "    return f_statistic, p_value, result\n",
    "\n",
    "def plot_groups(*groups):\n",
    "    # Plot the data for each group\n",
    "    plt.boxplot(groups, labels=[f'Group {i+1}' for i in range(len(groups))])\n",
    "    plt.title('Group Comparisons')\n",
    "    plt.ylabel('Values')\n",
    "    plt.show()\n",
    "\n",
    "# Example usage\n",
    "np.random.seed(0)  # For reproducibility\n",
    "group1 = np.random.normal(50, 10, 30)  # Group 1\n",
    "group2 = np.random.normal(55, 10, 30)  # Group 2\n",
    "group3 = np.random.normal(60, 10, 30)  # Group 3\n",
    "\n",
    "# Perform ANOVA test\n",
    "f_statistic, p_value, result = anova_test(group1, group2, group3)\n",
    "\n",
    "# Print results\n",
    "print(f\"F-statistic: {f_statistic:.4f}\")\n",
    "print(f\"P-value: {p_value:.4f}\")\n",
    "print(f\"Result: {result}\")\n",
    "\n",
    "# Plot the groups\n",
    "plot_groups(group1, group2, group3)\n"
   ]
  },
  {
   "cell_type": "code",
   "execution_count": 81,
   "id": "136ce4c4",
   "metadata": {},
   "outputs": [],
   "source": [
    "#19 Write a Python function to check the assumptions (normality, independence, and equal variance) for ANOVAD"
   ]
  },
  {
   "cell_type": "code",
   "execution_count": 82,
   "id": "e79ba75f",
   "metadata": {},
   "outputs": [
    {
     "data": {
      "image/png": "[encoded data removed]",
      "text/plain": [
       "<Figure size 1000x600 with 1 Axes>"
      ]
     },
     "metadata": {},
     "output_type": "display_data"
    },
    {
     "name": "stdout",
     "output_type": "stream",
     "text": [
      "Normality Test Results (Shapiro-Wilk):\n",
      "Group 1: W-statistic = 0.9695, p-value = 0.5254\n",
      "Group 2: W-statistic = 0.9835, p-value = 0.9085\n",
      "Group 3: W-statistic = 0.9763, p-value = 0.7204\n",
      "\n",
      "Equal Variance Test Result (Levene's Test):\n",
      "Levene's Test p-value = 0.6758\n",
      "\n",
      "All groups pass the normality test.\n",
      "Groups pass the equal variance test.\n"
     ]
    }
   ],
   "source": [
    "import numpy as np\n",
    "from scipy.stats import shapiro, levene\n",
    "import matplotlib.pyplot as plt\n",
    "import seaborn as sns\n",
    "\n",
    "def check_anova_assumptions(*groups):\n",
    "    # Check normality using Shapiro-Wilk test\n",
    "    normality_results = [shapiro(group) for group in groups]\n",
    "    normality_pass = all(p > 0.05 for _, p in normality_results)\n",
    "    \n",
    "    # Check equal variance using Levene's test\n",
    "    _, p_levene = levene(*groups)\n",
    "    equal_variance_pass = p_levene > 0.05\n",
    "    \n",
    "    # Plot data for visual inspection\n",
    "    plt.figure(figsize=(10, 6))\n",
    "    sns.boxplot(data=groups)\n",
    "    plt.title('Boxplot of Groups')\n",
    "    plt.xlabel('Group')\n",
    "    plt.ylabel('Values')\n",
    "    plt.show()\n",
    "    \n",
    "    # Print results\n",
    "    print(\"Normality Test Results (Shapiro-Wilk):\")\n",
    "    for i, (stat, p) in enumerate(normality_results):\n",
    "        print(f\"Group {i+1}: W-statistic = {stat:.4f}, p-value = {p:.4f}\")\n",
    "    \n",
    "    print(\"\\nEqual Variance Test Result (Levene's Test):\")\n",
    "    print(f\"Levene's Test p-value = {p_levene:.4f}\")\n",
    "    \n",
    "    # Interpret results\n",
    "    if normality_pass:\n",
    "        print(\"\\nAll groups pass the normality test.\")\n",
    "    else:\n",
    "        print(\"\\nNot all groups pass the normality test.\")\n",
    "    \n",
    "    if equal_variance_pass:\n",
    "        print(\"Groups pass the equal variance test.\")\n",
    "    else:\n",
    "        print(\"Groups do not pass the equal variance test.\")\n",
    "    \n",
    "    # Independence is usually assumed based on study design\n",
    "\n",
    "# Example usage\n",
    "np.random.seed(0)  # For reproducibility\n",
    "group1 = np.random.normal(50, 10, 30)  # Group 1\n",
    "group2 = np.random.normal(55, 10, 30)  # Group 2\n",
    "group3 = np.random.normal(60, 10, 30)  # Group 3\n",
    "\n",
    "check_anova_assumptions(group1, group2, group3)\n"
   ]
  },
  {
   "cell_type": "code",
   "execution_count": 83,
   "id": "87915df3",
   "metadata": {},
   "outputs": [],
   "source": [
    "#20  Perform a two-way ANOVA test using Python to study the interaction between two factors and visualize the results"
   ]
  },
  {
   "cell_type": "code",
   "execution_count": 84,
   "id": "5979bdef",
   "metadata": {},
   "outputs": [
    {
     "name": "stdout",
     "output_type": "stream",
     "text": [
      "                            sum_sq    df         F    PR(>F)\n",
      "C(Factor1)               80.999514   1.0  0.819443  0.369364\n",
      "C(Factor2)              573.313436   2.0  2.900003  0.063635\n",
      "C(Factor1):C(Factor2)   286.999203   2.0  1.451734  0.243156\n",
      "Residual               5337.741042  54.0       NaN       NaN\n"
     ]
    },
    {
     "data": {
      "image/png": "[encoded data removed]",
      "text/plain": [
       "<Figure size 640x480 with 1 Axes>"
      ]
     },
     "metadata": {},
     "output_type": "display_data"
    }
   ],
   "source": [
    "import numpy as np\n",
    "import pandas as pd\n",
    "import statsmodels.api as sm\n",
    "from statsmodels.formula.api import ols\n",
    "import matplotlib.pyplot as plt\n",
    "import seaborn as sns\n",
    "\n",
    "# Simulate data\n",
    "np.random.seed(0)\n",
    "factor1 = np.repeat(['A', 'B'], 30)\n",
    "factor2 = np.tile(['X', 'Y', 'Z'], 20)\n",
    "data = np.random.normal(loc=50, scale=10, size=60) + (factor1 == 'B') * 5 + (factor2 == 'Y') * 3\n",
    "\n",
    "# Create a DataFrame\n",
    "df = pd.DataFrame({'Factor1': factor1, 'Factor2': factor2, 'Value': data})\n",
    "\n",
    "# Perform two-way ANOVA\n",
    "model = ols('Value ~ C(Factor1) * C(Factor2)', data=df).fit()\n",
    "anova_table = sm.stats.anova_lm(model, typ=2)\n",
    "\n",
    "# Print ANOVA table\n",
    "print(anova_table)\n",
    "\n",
    "# Visualize the interaction\n",
    "sns.pointplot(x='Factor1', y='Value', hue='Factor2', data=df, dodge=True, markers=['o', 's', 'D'], capsize=0.1)\n",
    "plt.title('Interaction Plot')\n",
    "plt.show()\n"
   ]
  },
  {
   "cell_type": "code",
   "execution_count": 85,
   "id": "e1d01cf0",
   "metadata": {},
   "outputs": [],
   "source": [
    "#21 Write a Python program to visualize the F-distribution and discuss its use in hypothesis testing"
   ]
  },
  {
   "cell_type": "code",
   "execution_count": 86,
   "id": "1d0de11f",
   "metadata": {},
   "outputs": [
    {
     "data": {
      "image/png": "[encoded data removed]",
      "text/plain": [
       "<Figure size 640x480 with 1 Axes>"
      ]
     },
     "metadata": {},
     "output_type": "display_data"
    }
   ],
   "source": [
    "import numpy as np\n",
    "import matplotlib.pyplot as plt\n",
    "from scipy.stats import f\n",
    "\n",
    "def plot_f_distribution(df1, df2):\n",
    "    # Generate x values\n",
    "    x = np.linspace(0, 5, 1000)\n",
    "    \n",
    "    # Calculate the F-distribution PDF\n",
    "    y = f.pdf(x, df1, df2)\n",
    "    \n",
    "    # Plot the F-distribution\n",
    "    plt.plot(x, y, 'b-', label=f'F-distribution (df1={df1}, df2={df2})')\n",
    "    plt.fill_between(x, 0, y, alpha=0.2, color='blue')\n",
    "    \n",
    "    # Add labels and title\n",
    "    plt.title('F-distribution')\n",
    "    plt.xlabel('F-value')\n",
    "    plt.ylabel('Probability Density')\n",
    "    plt.legend()\n",
    "    plt.grid(True)\n",
    "    plt.show()\n",
    "\n",
    "# Example usage\n",
    "degrees_of_freedom1 = 5\n",
    "degrees_of_freedom2 = 10\n",
    "plot_f_distribution(degrees_of_freedom1, degrees_of_freedom2)\n"
   ]
  },
  {
   "cell_type": "code",
   "execution_count": 87,
   "id": "45ddd6e3",
   "metadata": {},
   "outputs": [],
   "source": [
    "#22  Perform a one-way ANOVA test in Python and visualize the results with boxplots to compare group means"
   ]
  },
  {
   "cell_type": "code",
   "execution_count": 88,
   "id": "0f512b53",
   "metadata": {},
   "outputs": [
    {
     "name": "stdout",
     "output_type": "stream",
     "text": [
      "F-statistic: 3.3415\n",
      "P-value: 0.0400\n",
      "Result: Reject the null hypothesis: There is a significant difference between the group means.\n"
     ]
    },
    {
     "data": {
      "image/png": "[encoded data removed]",
      "text/plain": [
       "<Figure size 640x480 with 1 Axes>"
      ]
     },
     "metadata": {},
     "output_type": "display_data"
    }
   ],
   "source": [
    "import numpy as np\n",
    "from scipy.stats import f_oneway\n",
    "import matplotlib.pyplot as plt\n",
    "import seaborn as sns\n",
    "\n",
    "def anova_test(*groups):\n",
    "    # Perform the one-way ANOVA test\n",
    "    f_statistic, p_value = f_oneway(*groups)\n",
    "    \n",
    "    # Interpret the results\n",
    "    alpha = 0.05\n",
    "    if p_value < alpha:\n",
    "        result = \"Reject the null hypothesis: There is a significant difference between the group means.\"\n",
    "    else:\n",
    "        result = \"Fail to reject the null hypothesis: There is no significant difference between the group means.\"\n",
    "    \n",
    "    return f_statistic, p_value, result\n",
    "\n",
    "def plot_boxplots(*groups):\n",
    "    # Create a DataFrame for plotting\n",
    "    data = {'Group': [], 'Value': []}\n",
    "    for i, group in enumerate(groups):\n",
    "        data['Group'].extend([f'Group {i+1}'] * len(group))\n",
    "        data['Value'].extend(group)\n",
    "    \n",
    "    # Plot boxplots\n",
    "    sns.boxplot(x='Group', y='Value', data=data)\n",
    "    plt.title('Boxplot of Group Means')\n",
    "    plt.xlabel('Group')\n",
    "    plt.ylabel('Values')\n",
    "    plt.show()\n",
    "\n",
    "# Example usage\n",
    "np.random.seed(0)  # For reproducibility\n",
    "group1 = np.random.normal(50, 10, 30)  # Group 1\n",
    "group2 = np.random.normal(55, 10, 30)  # Group 2\n",
    "group3 = np.random.normal(60, 10, 30)  # Group 3\n",
    "\n",
    "# Perform ANOVA test\n",
    "f_statistic, p_value, result = anova_test(group1, group2, group3)\n",
    "\n",
    "# Print results\n",
    "print(f\"F-statistic: {f_statistic:.4f}\")\n",
    "print(f\"P-value: {p_value:.4f}\")\n",
    "print(f\"Result: {result}\")\n",
    "\n",
    "# Plot the groups\n",
    "plot_boxplots(group1, group2, group3)\n"
   ]
  },
  {
   "cell_type": "code",
   "execution_count": 89,
   "id": "5433d4c3",
   "metadata": {},
   "outputs": [],
   "source": [
    "#23  Simulate random data from a normal distribution, then perform hypothesis testing to evaluate the means"
   ]
  },
  {
   "cell_type": "code",
   "execution_count": 90,
   "id": "b38c48fc",
   "metadata": {},
   "outputs": [
    {
     "name": "stdout",
     "output_type": "stream",
     "text": [
      "Group 1 Mean: 54.4286\n",
      "Group 2 Mean: 52.1048\n",
      "T-statistic: 0.8897\n",
      "P-value: 0.3774\n",
      "Result: Fail to reject the null hypothesis: There is no significant difference between the group means.\n"
     ]
    }
   ],
   "source": [
    "import numpy as np\n",
    "from scipy.stats import ttest_ind\n",
    "\n",
    "# Simulate random data from a normal distribution\n",
    "np.random.seed(0)  # For reproducibility\n",
    "mean1, std1, size1 = 50, 10, 30  # Parameters for group 1\n",
    "mean2, std2, size2 = 55, 10, 30  # Parameters for group 2\n",
    "\n",
    "group1 = np.random.normal(mean1, std1, size1)\n",
    "group2 = np.random.normal(mean2, std2, size2)\n",
    "\n",
    "# Perform hypothesis testing (independent t-test)\n",
    "t_statistic, p_value = ttest_ind(group1, group2, equal_var=False)  # Use Welch's t-test\n",
    "\n",
    "# Interpret the results\n",
    "alpha = 0.05\n",
    "if p_value < alpha:\n",
    "    result = \"Reject the null hypothesis: There is a significant difference between the group means.\"\n",
    "else:\n",
    "    result = \"Fail to reject the null hypothesis: There is no significant difference between the group means.\"\n",
    "\n",
    "# Print results\n",
    "print(f\"Group 1 Mean: {np.mean(group1):.4f}\")\n",
    "print(f\"Group 2 Mean: {np.mean(group2):.4f}\")\n",
    "print(f\"T-statistic: {t_statistic:.4f}\")\n",
    "print(f\"P-value: {p_value:.4f}\")\n",
    "print(f\"Result: {result}\")\n"
   ]
  },
  {
   "cell_type": "code",
   "execution_count": 91,
   "id": "d47e3caa",
   "metadata": {},
   "outputs": [],
   "source": [
    "#24 Perform a hypothesis test for population variance using a Chi-square distribution and interpret the results"
   ]
  },
  {
   "cell_type": "code",
   "execution_count": 92,
   "id": "c5b8bcf8",
   "metadata": {},
   "outputs": [
    {
     "name": "stdout",
     "output_type": "stream",
     "text": [
      "Sample Variance: 121.0723\n",
      "Chi-square Statistic: 35.1110\n",
      "Chi-square Critical Low: 16.0471\n",
      "Chi-square Critical High: 45.7223\n",
      "Result: Fail to reject the null hypothesis: The sample variance is not significantly different from the hypothesized variance.\n"
     ]
    }
   ],
   "source": [
    "import numpy as np\n",
    "from scipy.stats import chi2\n",
    "\n",
    "def variance_test(sample_data, hypothesized_variance, alpha=0.05):\n",
    "    # Calculate sample size and sample variance\n",
    "    n = len(sample_data)\n",
    "    sample_variance = np.var(sample_data, ddof=1)\n",
    "    \n",
    "    # Calculate the Chi-square statistic\n",
    "    chi2_statistic = (n - 1) * sample_variance / hypothesized_variance\n",
    "    \n",
    "    # Calculate the critical values for the Chi-square distribution\n",
    "    chi2_critical_low = chi2.ppf(alpha / 2, df=n - 1)\n",
    "    chi2_critical_high = chi2.ppf(1 - alpha / 2, df=n - 1)\n",
    "    \n",
    "    # Interpret the results\n",
    "    if chi2_statistic < chi2_critical_low or chi2_statistic > chi2_critical_high:\n",
    "        result = \"Reject the null hypothesis: The sample variance is significantly different from the hypothesized variance.\"\n",
    "    else:\n",
    "        result = \"Fail to reject the null hypothesis: The sample variance is not significantly different from the hypothesized variance.\"\n",
    "    \n",
    "    return chi2_statistic, chi2_critical_low, chi2_critical_high, result\n",
    "\n",
    "# Example usage\n",
    "np.random.seed(0)  # For reproducibility\n",
    "sample_data = np.random.normal(50, 10, 30)  # Simulated sample data\n",
    "hypothesized_variance = 100  # Hypothesized population variance\n",
    "\n",
    "chi2_statistic, chi2_critical_low, chi2_critical_high, result = variance_test(sample_data, hypothesized_variance)\n",
    "\n",
    "# Print results\n",
    "print(f\"Sample Variance: {np.var(sample_data, ddof=1):.4f}\")\n",
    "print(f\"Chi-square Statistic: {chi2_statistic:.4f}\")\n",
    "print(f\"Chi-square Critical Low: {chi2_critical_low:.4f}\")\n",
    "print(f\"Chi-square Critical High: {chi2_critical_high:.4f}\")\n",
    "print(f\"Result: {result}\")\n"
   ]
  },
  {
   "cell_type": "code",
   "execution_count": 93,
   "id": "29aef6ee",
   "metadata": {},
   "outputs": [],
   "source": [
    "#25  Write a Python script to perform a Z-test for comparing proportions between two datasets or groups"
   ]
  },
  {
   "cell_type": "code",
   "execution_count": 94,
   "id": "28e84b25",
   "metadata": {},
   "outputs": [
    {
     "name": "stdout",
     "output_type": "stream",
     "text": [
      "Z-statistic: 1.6330\n",
      "P-value: 0.1025\n",
      "Result: Fail to reject the null hypothesis: There is no significant difference between the proportions.\n"
     ]
    }
   ],
   "source": [
    "import numpy as np\n",
    "from statsmodels.stats.proportion import proportions_ztest\n",
    "\n",
    "def z_test_proportions(success_a, size_a, success_b, size_b, alpha=0.05):\n",
    "    # Number of successes and total observations for each group\n",
    "    successes = np.array([success_a, success_b])\n",
    "    nobs = np.array([size_a, size_b])\n",
    "    \n",
    "    # Perform the Z-test for proportions\n",
    "    z_statistic, p_value = proportions_ztest(successes, nobs)\n",
    "    \n",
    "    # Interpret the results\n",
    "    if p_value < alpha:\n",
    "        result = \"Reject the null hypothesis: There is a significant difference between the proportions.\"\n",
    "    else:\n",
    "        result = \"Fail to reject the null hypothesis: There is no significant difference between the proportions.\"\n",
    "    \n",
    "    return z_statistic, p_value, result\n",
    "\n",
    "# Example usage\n",
    "success_a = 30  # Number of successes in group A\n",
    "size_a = 100    # Total observations in group A\n",
    "success_b = 20  # Number of successes in group B\n",
    "size_b = 100    # Total observations in group B\n",
    "\n",
    "z_statistic, p_value, result = z_test_proportions(success_a, size_a, success_b, size_b)\n",
    "\n",
    "# Print results\n",
    "print(f\"Z-statistic: {z_statistic:.4f}\")\n",
    "print(f\"P-value: {p_value:.4f}\")\n",
    "print(f\"Result: {result}\")\n"
   ]
  },
  {
   "cell_type": "code",
   "execution_count": 95,
   "id": "01d760a0",
   "metadata": {},
   "outputs": [],
   "source": [
    "#26 Implement an F-test for comparing the variances of two datasets, then interpret and visualize the results"
   ]
  },
  {
   "cell_type": "code",
   "execution_count": 96,
   "id": "07f78e80",
   "metadata": {},
   "outputs": [
    {
     "name": "stdout",
     "output_type": "stream",
     "text": [
      "F-statistic: 1.5533\n",
      "P-value: 0.2416\n",
      "Result: Fail to reject the null hypothesis: The variances are not significantly different.\n"
     ]
    },
    {
     "data": {
      "image/png": "[encoded data removed]",
      "text/plain": [
       "<Figure size 640x480 with 1 Axes>"
      ]
     },
     "metadata": {},
     "output_type": "display_data"
    }
   ],
   "source": [
    "import numpy as np\n",
    "from scipy.stats import f\n",
    "import matplotlib.pyplot as plt\n",
    "\n",
    "def f_test_variances(sample1, sample2, alpha=0.05):\n",
    "    # Calculate the variances of the two samples\n",
    "    var1 = np.var(sample1, ddof=1)\n",
    "    var2 = np.var(sample2, ddof=1)\n",
    "    \n",
    "    # Calculate the F-statistic\n",
    "    f_statistic = var1 / var2 if var1 > var2 else var2 / var1\n",
    "    \n",
    "    # Calculate the degrees of freedom\n",
    "    df1 = len(sample1) - 1\n",
    "    df2 = len(sample2) - 1\n",
    "    \n",
    "    # Calculate the p-value\n",
    "    p_value = 1 - f.cdf(f_statistic, df1, df2)\n",
    "    \n",
    "    # Adjust p-value for two-tailed test\n",
    "    p_value *= 2\n",
    "    \n",
    "    # Interpret the results\n",
    "    if p_value < alpha:\n",
    "        result = \"Reject the null hypothesis: The variances are significantly different.\"\n",
    "    else:\n",
    "        result = \"Fail to reject the null hypothesis: The variances are not significantly different.\"\n",
    "    \n",
    "    return f_statistic, p_value, result\n",
    "\n",
    "def plot_variances(sample1, sample2):\n",
    "    # Plot the variances of the two samples\n",
    "    plt.boxplot([sample1, sample2], labels=['Sample 1', 'Sample 2'])\n",
    "    plt.title('Boxplot of Sample Variances')\n",
    "    plt.ylabel('Values')\n",
    "    plt.show()\n",
    "\n",
    "# Example usage\n",
    "np.random.seed(0)  # For reproducibility\n",
    "sample1 = np.random.normal(50, 10, 30)  # Sample 1\n",
    "sample2 = np.random.normal(50, 15, 30)  # Sample 2 with a different variance\n",
    "\n",
    "# Perform F-test\n",
    "f_statistic, p_value, result = f_test_variances(sample1, sample2)\n",
    "\n",
    "# Print results\n",
    "print(f\"F-statistic: {f_statistic:.4f}\")\n",
    "print(f\"P-value: {p_value:.4f}\")\n",
    "print(f\"Result: {result}\")\n",
    "\n",
    "# Visualize the results\n",
    "plot_variances(sample1, sample2)\n"
   ]
  },
  {
   "cell_type": "code",
   "execution_count": 97,
   "id": "c8cac2fd",
   "metadata": {},
   "outputs": [],
   "source": [
    "#27  Perform a Chi-square test for goodness of fit with simulated data and analyze the results."
   ]
  },
  {
   "cell_type": "code",
   "execution_count": 98,
   "id": "d44976f8",
   "metadata": {},
   "outputs": [
    {
     "name": "stdout",
     "output_type": "stream",
     "text": [
      "Chi-square Statistic: 46.0\n",
      "P-value: 5.671485959912443e-10\n",
      "Reject the null hypothesis: The observed data does not fit the expected distribution.\n"
     ]
    }
   ],
   "source": [
    "import numpy as np\n",
    "from scipy.stats import chisquare\n",
    "\n",
    "# Step 1: Simulate observed data\n",
    "# Let's assume we have 4 categories with observed frequencies\n",
    "observed = np.array([50, 30, 15, 5])\n",
    "\n",
    "# Step 2: Define expected frequencies\n",
    "# Assume the expected distribution is uniform (equal frequencies for all categories)\n",
    "total = np.sum(observed)\n",
    "expected = np.array([total / 4] * 4)  # Uniform distribution\n",
    "\n",
    "# Step 3: Perform the Chi-square goodness of fit test\n",
    "chi2_stat, p_value = chisquare(f_obs=observed, f_exp=expected)\n",
    "\n",
    "# Step 4: Analyze the results\n",
    "print(\"Chi-square Statistic:\", chi2_stat)\n",
    "print(\"P-value:\", p_value)\n",
    "\n",
    "# Interpretation\n",
    "alpha = 0.05  # Significance level\n",
    "if p_value < alpha:\n",
    "    print(\"Reject the null hypothesis: The observed data does not fit the expected distribution.\")\n",
    "else:\n",
    "    print(\"Fail to reject the null hypothesis: The observed data fits the expected distribution.\")\n",
    "\n"
   ]
  },
  {
   "cell_type": "code",
   "execution_count": null,
   "id": "16490121",
   "metadata": {},
   "outputs": [],
   "source": []
  }
 ],
 "metadata": {
  "kernelspec": {
   "display_name": "Python 3 (ipykernel)",
   "language": "python",
   "name": "python3"
  },
  "language_info": {
   "codemirror_mode": {
    "name": "ipython",
    "version": 3
   },
   "file_extension": ".py",
   "mimetype": "text/x-python",
   "name": "python",
   "nbconvert_exporter": "python",
   "pygments_lexer": "ipython3",
   "version": "3.11.5"
  }
 },
 "nbformat": 4,
 "nbformat_minor": 5
}
